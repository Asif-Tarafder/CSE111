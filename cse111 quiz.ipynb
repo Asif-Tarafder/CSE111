{
 "cells": [
  {
   "cell_type": "code",
   "execution_count": 1,
   "metadata": {},
   "outputs": [
    {
     "name": "stdout",
     "output_type": "stream",
     "text": [
      "1, 10, 5, 65, 100, 56\n",
      "156\n"
     ]
    }
   ],
   "source": [
    "l=input().split(\",\")\n",
    "def fanctin(x):\n",
    "    lst=[]\n",
    "    for i in x:\n",
    "        if int(i)%2==0:\n",
    "            lst.append(int(i))\n",
    "    i=0\n",
    "     \n",
    "    while i < len(lst):\n",
    "        j=i+1\n",
    "        mex=i\n",
    "        while j <(len(lst)):\n",
    "            if lst[mex]<lst[j]:\n",
    "                mex=j\n",
    "            j=j+1\n",
    "        temp = lst[i]\n",
    "        lst[i] = lst[mex]\n",
    "        lst[mex] = temp\n",
    "        i=i+1\n",
    "    if len(lst)==1:\n",
    "        return(\"-1\")\n",
    "    else:\n",
    "        return(lst[0]+lst[1])       \n",
    "print(fanctin(l))"
   ]
  },
  {
   "cell_type": "code",
   "execution_count": 2,
   "metadata": {},
   "outputs": [
    {
     "name": "stdout",
     "output_type": "stream",
     "text": [
      "1, 10, 5, 65, 100, 56\n",
      "156\n"
     ]
    }
   ],
   "source": [
    "n=input().split(\",\")\n",
    "def evenpair (x):\n",
    "    l=[]\n",
    "    for i in x:\n",
    "        if int(i)%2==0:\n",
    "            l.append (int(i))\n",
    "    i=0\n",
    "    while i<len(l):\n",
    "        j=i+1\n",
    "        ma_x=i\n",
    "        while j<(len(l)):\n",
    "            if l[ma_x]<l[j]:\n",
    "                ma_x=j\n",
    "            j=j+1\n",
    "        temp=l[i]\n",
    "        l[i]=l[ma_x]\n",
    "        l[ma_x]=temp\n",
    "        i=i+1\n",
    "    if len(l)==1:\n",
    "        \n",
    "        return(\"-1\")\n",
    "    else:\n",
    "        return(l[0]+l[1])\n",
    "print (evenpair(n))    "
   ]
  },
  {
   "cell_type": "code",
   "execution_count": 10,
   "metadata": {},
   "outputs": [
    {
     "name": "stdout",
     "output_type": "stream",
     "text": [
      "1, 10, 5, 65, 100, 56\n",
      "156\n"
     ]
    }
   ],
   "source": [
    "n=input().split(\",\")\n",
    "even_l=[]\n",
    "for i in n:\n",
    "        if int(i)%2==0:\n",
    "            even_l.append (int(i))\n",
    "    \n",
    "def evenpair (l):\n",
    "    i=0\n",
    "    while i<len(l):\n",
    "        j=i+1\n",
    "        ma_x=i\n",
    "        while j<(len(l)):\n",
    "            if l[ma_x]<l[j]:\n",
    "                ma_x=j\n",
    "            j=j+1\n",
    "        temp=l[i]\n",
    "        l[i]=l[ma_x]\n",
    "        l[ma_x]=temp\n",
    "        i=i+1\n",
    "    return(l[0]+l[1])\n",
    "if len(even_l)<1:\n",
    "    print(-1)\n",
    "else:\n",
    "    print (evenpair(even_l))    "
   ]
  },
  {
   "cell_type": "code",
   "execution_count": null,
   "metadata": {},
   "outputs": [],
   "source": []
  },
  {
   "cell_type": "code",
   "execution_count": 3,
   "metadata": {},
   "outputs": [
    {
     "name": "stdout",
     "output_type": "stream",
     "text": [
      "1, 10, 5, 65, 100, 56\n",
      "156\n"
     ]
    }
   ],
   "source": [
    "x=input().split(\",\")\n",
    "l=[]\n",
    "for i in x:\n",
    "    if int(i)%2==0:\n",
    "        l.append (int(i))\n",
    "        i=0\n",
    "        \n",
    "while i<len(l):\n",
    "    j=i+1\n",
    "    ma_x=i\n",
    "    while j<(len(l)):\n",
    "        if l[ma_x]<l[j]:\n",
    "            ma_x=j\n",
    "        j=j+1\n",
    "    temp=l[i]\n",
    "    l[i]=l[ma_x]\n",
    "    l[ma_x]=temp\n",
    "    i=i+1\n",
    "if len(l)==0:\n",
    "    print(\"-1\")\n",
    "else:\n",
    "    print ((l[0]+l[1]))    "
   ]
  },
  {
   "cell_type": "code",
   "execution_count": 6,
   "metadata": {},
   "outputs": [
    {
     "name": "stdout",
     "output_type": "stream",
     "text": [
      "1, 10, 5, 65, 100, 56\n",
      "156\n"
     ]
    }
   ],
   "source": [
    "x=input().split(\",\")\n",
    "l=[]\n",
    "for i in x:\n",
    "    if int(i)%2==0:\n",
    "        l.append (int(i))\n",
    "        i=0\n",
    "        \n",
    "for i in range(len(l)-1):\n",
    "    ma_x=i\n",
    "    for j in range(1,len(l)):\n",
    "        if l[ma_x]<l[j]:\n",
    "            ma_x=j\n",
    "    temp=l[i]\n",
    "    l[i]=l[ma_x]\n",
    "    l[ma_x]=temp\n",
    "if len(l)==0:\n",
    "    print(\"-1\")\n",
    "else:\n",
    "    print ((l[0]+l[1]))    "
   ]
  },
  {
   "cell_type": "code",
   "execution_count": null,
   "metadata": {},
   "outputs": [],
   "source": [
    "#"
   ]
  }
 ],
 "metadata": {
  "kernelspec": {
   "display_name": "Python 3",
   "language": "python",
   "name": "python3"
  },
  "language_info": {
   "codemirror_mode": {
    "name": "ipython",
    "version": 3
   },
   "file_extension": ".py",
   "mimetype": "text/x-python",
   "name": "python",
   "nbconvert_exporter": "python",
   "pygments_lexer": "ipython3",
   "version": "3.8.5"
  }
 },
 "nbformat": 4,
 "nbformat_minor": 4
}
