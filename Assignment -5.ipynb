{
 "cells": [
  {
   "cell_type": "code",
   "execution_count": 10,
   "metadata": {},
   "outputs": [
    {
     "name": "stdout",
     "output_type": "stream",
     "text": [
      "a: 100, b: 200, c: 300, d: 400\n",
      "100\n",
      "500\n",
      "True\n",
      "False\n"
     ]
    }
   ],
   "source": [
    "#easy1\n",
    "s=input().split(\",\")\n",
    "d={}\n",
    "for i in s:\n",
    "    c=i.find(\":\")\n",
    "    d[i[0:c]]=int(i[c+1:])\n",
    "l=[]\n",
    "for i in range(2):\n",
    "    k=int(input())\n",
    "    r=0\n",
    "    for j in d:\n",
    "        if k == d[j] and r!=1:\n",
    "            l.append(\"True\")\n",
    "            r=1\n",
    "            #break\n",
    "    if r==0:\n",
    "        l.append(\"False\")\n",
    "print(l[0])\n",
    "print(l[1])"
   ]
  },
  {
   "cell_type": "code",
   "execution_count": 2,
   "metadata": {},
   "outputs": [
    {
     "name": "stdout",
     "output_type": "stream",
     "text": [
      "a: 100, b: 200, c: 300, d: 400\n",
      "100\n",
      "500\n",
      "STOP\n",
      "True\n",
      "False\n"
     ]
    }
   ],
   "source": [
    "#easy1\n",
    "s=input().split(\",\")\n",
    "def creat_dectionary(x,y):\n",
    "    d={}\n",
    "    for i in s:\n",
    "        c=i.find(\":\")\n",
    "        d[i[0:c]]=int(i[c+1:])\n",
    "    v=d.values()\n",
    "    return v\n",
    "l=[]\n",
    "while True:\n",
    "    k=input()\n",
    "    if k==\"STOP\":\n",
    "        break\n",
    "    else:\n",
    "        z=creat_dectionary(s,k)\n",
    "        p=(int(k) in z)\n",
    "        l.append(p)\n",
    "for i in l:\n",
    "    print(i)       "
   ]
  },
  {
   "cell_type": "code",
   "execution_count": 3,
   "metadata": {},
   "outputs": [
    {
     "name": "stdout",
     "output_type": "stream",
     "text": [
      "a: 100, b: 200, c: 300, d: 400\n",
      "100\n",
      "299\n",
      "STOP\n",
      "True\n",
      "False\n"
     ]
    }
   ],
   "source": [
    "#easy1 altanative\n",
    "s=input().split(\",\")            #    [a: 100 , b: 200 , c: 300 , d: 400]\n",
    "d={} \n",
    "for i in s:                     #   i =a:100\n",
    "    c=i.find(\":\")                # c=1      \n",
    "    d[i[0:c]]=int(i[c+1:])      # d[a]=100\n",
    "l=[]\n",
    "while True:\n",
    "    s1=input()\n",
    "    if s1==\"STOP\":\n",
    "        break\n",
    "    else:\n",
    "        l.append(int(s1) in d.values())\n",
    "for i in l:\n",
    "    print(i)\n",
    "    \n"
   ]
  },
  {
   "cell_type": "code",
   "execution_count": 1,
   "metadata": {},
   "outputs": [
    {
     "name": "stdout",
     "output_type": "stream",
     "text": [
      "['a', 'b', 'c', 'd', 'e', 'f', 'g', 'h']\n",
      "('h', 'g', 'f', 'e', 'd', 'c', 'b', 'a')\n"
     ]
    }
   ],
   "source": [
    "#to do\n",
    "t1=('a', 'b', 'c', 'd', 'e', 'f', 'g', 'h')\n",
    "#t1=(10, 20, 30, 40, 50, 60)\n",
    "t = list(t1)\n",
    "print(t)\n",
    "l=[]\n",
    "for i in range(-1,-len(t)-1,-1):\n",
    "    l.append(t[i])\n",
    "l=tuple(l)\n",
    "print(l)"
   ]
  },
  {
   "cell_type": "code",
   "execution_count": 6,
   "metadata": {},
   "outputs": [
    {
     "name": "stdout",
     "output_type": "stream",
     "text": [
      "a: 100, b: 200, c: 300, d: 400\n",
      "1000\n",
      "100\n",
      "STOP\n",
      "False\n",
      "True\n"
     ]
    }
   ],
   "source": []
  },
  {
   "cell_type": "code",
   "execution_count": 1,
   "metadata": {},
   "outputs": [
    {
     "name": "stdout",
     "output_type": "stream",
     "text": [
      "hysics: 82, Math : 65,History: 75\n",
      "Minimum:  Math \n",
      "Maximum: hysics\n"
     ]
    }
   ],
   "source": [
    "#easy2\n",
    "s=input().split(\",\")\n",
    "d={}\n",
    "maxx=0\n",
    "minn=0\n",
    "for i in s:\n",
    "    c=i.find(\":\")\n",
    "    d[i[0:c]]=int(i[c+1:])\n",
    "    maxx=int(i[c+1:])\n",
    "    minn=int(i[c+1:])\n",
    "kye=''\n",
    "kye1=''\n",
    "for i in d:\n",
    "    if maxx<d[i]:\n",
    "        maxx=d[i]\n",
    "        kye=i\n",
    "    if minn>d[i]:\n",
    "        minn=d[i]\n",
    "        kye1=i\n",
    "print('Minimum:',kye1)\n",
    "print('Maximum:',kye)"
   ]
  },
  {
   "cell_type": "code",
   "execution_count": 3,
   "metadata": {},
   "outputs": [
    {
     "name": "stdout",
     "output_type": "stream",
     "text": [
      "10\n",
      "20\n",
      "20\n",
      "enter different number\n",
      "10\n",
      "enter different number\n",
      "30\n",
      "40\n",
      "50\n",
      "50\n",
      "enter different number\n",
      "70\n",
      "70\n",
      "enter different number\n",
      "80\n",
      "90\n",
      "100\n",
      "2\n",
      "{'a': 10, 'b': 20, 'c': 30, 'd': 40, 'e': 50, 'f': 70, 'g': 80, 'h': 90, 'i': 100, 'j': 2}\n"
     ]
    }
   ],
   "source": [
    "#Easy3\n",
    "i=0\n",
    "lst=['a','b','c','d','e','f','g','h','i','j']\n",
    "asif={}\n",
    "while i<10:\n",
    "    s=int(input())\n",
    "    v=asif.values()\n",
    "    if s not in v:\n",
    "        asif[lst[i]]=s\n",
    "    else:\n",
    "        i=i-1\n",
    "        print(\"enter different number\")\n",
    "    i=i+1\n",
    "print(asif)\n"
   ]
  },
  {
   "cell_type": "code",
   "execution_count": 63,
   "metadata": {},
   "outputs": [
    {
     "name": "stdout",
     "output_type": "stream",
     "text": [
      "a: 100, b: 100, c: 200, d: 300\n",
      "a: 300, b: 200, d: 400, e: 200\n",
      "{'a': 400, ' b': 300, ' c': 200, ' d': 700, ' e': 200}\n",
      "(200, 300, 400, 700)\n"
     ]
    }
   ],
   "source": [
    "#Medium1\n",
    "def dictionary(s):\n",
    "    d={}\n",
    "    for i in s:\n",
    "        c=i.find(\":\")\n",
    "        d[i[0:c]]=int(i[c+1:])\n",
    "    return d\n",
    "a=input().split(',')\n",
    "a=dictionary(a)\n",
    "b=input().split(',')\n",
    "b=dictionary(b)\n",
    "d={}\n",
    "for i in a:\n",
    "    if i in b:\n",
    "            d[i]=a[i]+b[i]\n",
    "    else:\n",
    "        d[i]=a[i]\n",
    "for i in b:\n",
    "    if i not in a:\n",
    "            d[i]=b[i]\n",
    "print(d)\n",
    "v=d.values()\n",
    "l=[]\n",
    "for i in v:\n",
    "    if i not in l:\n",
    "        l.append(int(i))\n",
    "for i in range(0,len(l)-1):\n",
    "    for j in range(i+1,len(l)):\n",
    "        if l[i]>l[j]:\n",
    "            temp=l[i]\n",
    "            l[i]=l[j]\n",
    "            l[j]=temp\n",
    "l=tuple(l)\n",
    "print(l)\n",
    "    "
   ]
  },
  {
   "cell_type": "code",
   "execution_count": 64,
   "metadata": {},
   "outputs": [
    {
     "name": "stdout",
     "output_type": "stream",
     "text": [
      "a: 100, b: 100, c: 200, d: 300\n",
      "a: 300, b: 200, d: 400, e: 200\n",
      "{'a': 400, ' b': 300, ' c': 200, ' d': 700, ' e': 200}\n",
      "(200, 300, 400, 700)\n"
     ]
    }
   ],
   "source": [
    "#Medium1\n",
    "def dictionary(s):\n",
    "    d={}\n",
    "    for i in s:\n",
    "        c=i.find(\":\")\n",
    "        d[i[0:c]]=int(i[c+1:])\n",
    "    return d\n",
    "a=input().split(',')\n",
    "a=dictionary(a)\n",
    "b=input().split(',')\n",
    "b=dictionary(b)\n",
    "d={}\n",
    "for i in a:\n",
    "    if i in b:\n",
    "            d[i]=a[i]+b[i]\n",
    "    else:\n",
    "        d[i]=a[i]\n",
    "for i in b:\n",
    "    if i not in a:\n",
    "            d[i]=b[i]\n",
    "print(d)\n",
    "v=d.values()\n",
    "l=[]\n",
    "for i in v:\n",
    "    if i not in l:\n",
    "        l.append(int(i))\n",
    "l.sort()\n",
    "l=tuple(l)\n",
    "print(l)\n",
    "    "
   ]
  },
  {
   "cell_type": "code",
   "execution_count": 6,
   "metadata": {},
   "outputs": [
    {
     "name": "stdout",
     "output_type": "stream",
     "text": [
      "10\n",
      "20\n",
      "30\n",
      "10\n",
      "STOP\n",
      "10 - 2 times\n",
      "20 - 1 times\n",
      "30 - 1 times\n"
     ]
    }
   ],
   "source": [
    "#Medium2\n",
    "c=0\n",
    "d={}\n",
    "while True:\n",
    "    s=input()\n",
    "    if s=='STOP':\n",
    "        break\n",
    "    else:\n",
    "        d[c]=s\n",
    "    c=c+1\n",
    "valu=d.values\n",
    "l=[]\n",
    "for x,y in d.items():\n",
    "    count=0\n",
    "    if y not in l:\n",
    "        for i in d.values():\n",
    "            if y==i:\n",
    "                count=count+1\n",
    "        l.append(y)\n",
    "        print(y,\"-\",count,\"times\")\n",
    "    \n"
   ]
  },
  {
   "cell_type": "code",
   "execution_count": 11,
   "metadata": {},
   "outputs": [
    {
     "name": "stdout",
     "output_type": "stream",
     "text": [
      "key1 : value1, key2 : value2, key3 : value1, key4 : value2\n",
      "{' value1': ['key1 ', ' key3 '], ' value2': [' key2 ', ' key4 ']}\n"
     ]
    }
   ],
   "source": [
    "#Medium3\n",
    "s=input().split(\",\")\n",
    "d={}\n",
    "for i in s:\n",
    "    c=i.find(\":\")\n",
    "    d[i[0:c]]=(i[c+1:])\n",
    "d1={}\n",
    "for i in d.values():\n",
    "    l=[]\n",
    "    if i not in d1:\n",
    "        for x,y in d.items():        \n",
    "            if i==y:\n",
    "                l.append(x)\n",
    "        d1[i]=l\n",
    "print(d1)\n",
    "\n"
   ]
  },
  {
   "cell_type": "code",
   "execution_count": 4,
   "metadata": {},
   "outputs": [
    {
     "name": "stdout",
     "output_type": "stream",
     "text": [
      "ytr\n",
      "d\n",
      "Those strings are not anagrams.\n"
     ]
    }
   ],
   "source": [
    "#Hard1\n",
    "d={input().upper():input().upper()}\n",
    "for x,y in d.items():\n",
    "    if (''.join(sorted(x)))==(''.join(sorted(y))):\n",
    "        print('Those strings are anagrams.')\n",
    "    else:\n",
    "         print('Those strings are not anagrams.')\n",
    "            \n",
    "    \n",
    "        "
   ]
  },
  {
   "cell_type": "code",
   "execution_count": 31,
   "metadata": {},
   "outputs": [
    {
     "name": "stdout",
     "output_type": "stream",
     "text": [
      "live\n",
      "evil\n",
      "Those strings are anagrams.\n"
     ]
    }
   ],
   "source": [
    "#Hard1 altanative\n",
    "d={input().upper():input().upper()}\n",
    "for x,y in d.items():\n",
    "    c=1\n",
    "    for i in x:\n",
    "        if x.count(i)!=y.count(i):\n",
    "            c=0\n",
    "            break\n",
    "    if c==1:\n",
    "         print('Those strings are anagrams.')\n",
    "    else:\n",
    "         print('Those strings are not anagrams.')       "
   ]
  },
  {
   "cell_type": "code",
   "execution_count": 3,
   "metadata": {},
   "outputs": [
    {
     "name": "stdout",
     "output_type": "stream",
     "text": [
      "1\n",
      "2\n",
      "3\n",
      "4\n",
      "5\n",
      "[5, 4, 3, 2, 1]\n"
     ]
    }
   ],
   "source": [
    "#problem-1\n",
    "lst=[]\n",
    "for i in range (0,5,1):\n",
    "    n=int(input())\n",
    "    lst.append(n)\n",
    "#print(list(reversed(lst)))\n",
    "lst.reverse()\n",
    "print (lst)"
   ]
  },
  {
   "cell_type": "code",
   "execution_count": 2,
   "metadata": {},
   "outputs": [
    {
     "name": "stdout",
     "output_type": "stream",
     "text": [
      "live\n",
      "asif\n",
      "Those strings are not anagrams.\n"
     ]
    }
   ],
   "source": [
    "#Hard1 altanative\n",
    "d={input().upper():input().upper()}\n",
    "for x,y in d.items():\n",
    "    c=0\n",
    "    for i in x:\n",
    "        if i in y:\n",
    "            c=c+1\n",
    "        else:\n",
    "            c=0\n",
    "            break\n",
    "    if c!=0:\n",
    "         print('Those strings are anagrams.')\n",
    "    else:\n",
    "         print('Those strings are not anagrams.')   "
   ]
  },
  {
   "cell_type": "code",
   "execution_count": 6,
   "metadata": {},
   "outputs": [
    {
     "name": "stdout",
     "output_type": "stream",
     "text": [
      "Hello, World!\n",
      "HELLO, WORLD!\n",
      "4433555555666110966677755531111"
     ]
    }
   ],
   "source": [
    "#hard2\n",
    "s=input().upper()\n",
    "print(s)\n",
    "d={ 1:'.,?!:', 2:'ABC',3:'DEF',4:'GHI',5:'JKL',6:'MNO',7:'PQRS',8:'TUV',9:'WXYZ',0:' '}\n",
    "for i in range(len(s)):\n",
    "    for x,y in d.items():\n",
    "        if s[i] in y:\n",
    "            c=y.find(s[i])\n",
    "            for j in range(c+1) :\n",
    "                print(x,end=\"\")\n",
    "    "
   ]
  },
  {
   "cell_type": "code",
   "execution_count": 2,
   "metadata": {},
   "outputs": [
    {
     "name": "stdout",
     "output_type": "stream",
     "text": [
      "Hello,world!\n",
      "HELLO,WORLD!\n",
      "443355555566611966677755531111"
     ]
    }
   ],
   "source": [
    "#hard2\n",
    "s=input().upper()\n",
    "print(s)\n",
    "d={ '.':1,',':11,'?':111,'!':1111,':':11111, 'A':2,'B':22,'C':222,'D':3,'E':33,'F':333,'G':4,'H':44,'I':444,\n",
    "   'J':5,'K':55,'L':555,'M':6,'N':66,'O':666,'P':7,'Q':77,'R':777,\n",
    "   'S':7777,'T':8,'U':88,'V':888,'W':9,'X':99,'Y':999,'Z':9999,' ':0}\n",
    "for i in s:\n",
    "    for x,y in d.items():\n",
    "        if i == x:\n",
    "            print(y,end=\"\")\n",
    "    "
   ]
  },
  {
   "cell_type": "code",
   "execution_count": null,
   "metadata": {},
   "outputs": [],
   "source": []
  },
  {
   "cell_type": "code",
   "execution_count": null,
   "metadata": {},
   "outputs": [],
   "source": []
  }
 ],
 "metadata": {
  "kernelspec": {
   "display_name": "Python 3",
   "language": "python",
   "name": "python3"
  },
  "language_info": {
   "codemirror_mode": {
    "name": "ipython",
    "version": 3
   },
   "file_extension": ".py",
   "mimetype": "text/x-python",
   "name": "python",
   "nbconvert_exporter": "python",
   "pygments_lexer": "ipython3",
   "version": "3.8.5"
  }
 },
 "nbformat": 4,
 "nbformat_minor": 4
}
