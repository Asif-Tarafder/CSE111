{
 "cells": [
  {
   "cell_type": "code",
   "execution_count": 1,
   "metadata": {},
   "outputs": [
    {
     "name": "stdout",
     "output_type": "stream",
     "text": [
      "1\n",
      "2\n",
      "3\n",
      "4\n",
      "5\n",
      "6\n",
      "7\n",
      "8\n",
      "9\n",
      "10\n",
      "10,9,8,7,6,5,4,3,2,1\n"
     ]
    }
   ],
   "source": [
    "#Easy1\n",
    "i=0\n",
    "asif=[]\n",
    "while i<10:\n",
    "    s=input()\n",
    "    asif.append(s)\n",
    "    i=i+1   \n",
    "print(\",\".join(asif[i::-1])) "
   ]
  },
  {
   "cell_type": "code",
   "execution_count": 8,
   "metadata": {},
   "outputs": [
    {
     "name": "stdout",
     "output_type": "stream",
     "text": [
      "1,3,5,7,9,10\n",
      "2,4,6,8\n",
      "[1, 3, 5, 7, 9, 2, 4, 6, 8]\n"
     ]
    }
   ],
   "source": [
    "#Easy2\n",
    "n=((input()).split(','))\n",
    "n1=((input()).split(','))\n",
    "n=(n[0:len(n)-1])+n1\n",
    "n=[int(i) for i in n]\n",
    "print(n)"
   ]
  },
  {
   "cell_type": "code",
   "execution_count": 11,
   "metadata": {},
   "outputs": [
    {
     "name": "stdout",
     "output_type": "stream",
     "text": [
      "enter a number: 1\n",
      "enter a number: 2\n",
      "enter a number: 3\n",
      "enter a number: 4\n",
      "enter a number: 5\n",
      "enter a number: 6\n",
      "enter a number: 4\n",
      "Please enter different number: 5\n",
      "Please enter different number: 7\n",
      "enter a number: 8\n",
      "enter a number: 9\n",
      "enter a number: 10\n",
      "1,2,3,4,5,6,7,8,9,10\n"
     ]
    }
   ],
   "source": [
    "#Easy3\n",
    "s=input(\"enter a number: \")\n",
    "c=0\n",
    "s1=[]\n",
    "while c<10:\n",
    "    if s not in s1:\n",
    "        s1.append(s)\n",
    "        if c!=9:\n",
    "            s=input(\"enter a number: \")\n",
    "    else:\n",
    "        c=c-1\n",
    "        s=input(\"Please enter different number: \")   \n",
    "    c=c+1\n",
    "print(\",\".join(s1))"
   ]
  },
  {
   "cell_type": "code",
   "execution_count": 12,
   "metadata": {},
   "outputs": [
    {
     "name": "stdout",
     "output_type": "stream",
     "text": [
      "10\n",
      "20\n",
      "20\n",
      "20\n",
      "10\n",
      "50\n",
      "90\n",
      "STOP\n",
      "10 - 2 times\n",
      "20 - 3 times\n",
      "50 - 1 times\n",
      "90 - 1 times\n"
     ]
    }
   ],
   "source": [
    "#Medium1\n",
    "i=0\n",
    "asif=[]\n",
    "while True:\n",
    "    s=input()\n",
    "    if s==\"STOP\":\n",
    "        break\n",
    "    else:\n",
    "        asif.append(s)\n",
    "    i=i+1\n",
    "c=0\n",
    "s=[]\n",
    "while c<len(asif):\n",
    "    if asif[c] not in s:\n",
    "        print(asif[c],\"-\",asif.count(asif[c]),\"times\")\n",
    "        s.append(asif[c])\n",
    "    c=c+1 "
   ]
  },
  {
   "cell_type": "code",
   "execution_count": 14,
   "metadata": {},
   "outputs": [
    {
     "name": "stdout",
     "output_type": "stream",
     "text": [
      "4\n",
      "1 2 3 4\n",
      "5 6 7\n",
      "10 11 12\n",
      "7 8 9\n",
      "33\n",
      "[10, 11, 12]\n"
     ]
    }
   ],
   "source": [
    "#Medium2\n",
    "n=int(input())\n",
    "c=0\n",
    "maxsum=0\n",
    "lst=[]\n",
    "while c<n:\n",
    "    s=(input()).split()\n",
    "    m=0\n",
    "    for i in s:\n",
    "        m=m+int(i)\n",
    "    if m>maxsum:\n",
    "        maxsum=m\n",
    "        lst=[int(i) for i in s]\n",
    "        \n",
    "    c=c+1\n",
    "print(maxsum)\n",
    "print(lst)"
   ]
  },
  {
   "cell_type": "code",
   "execution_count": 15,
   "metadata": {},
   "outputs": [
    {
     "name": "stdout",
     "output_type": "stream",
     "text": [
      "2 3 6\n",
      "4 5 6\n",
      "[8, 10, 12, 12, 15, 18, 24, 30, 36]\n"
     ]
    }
   ],
   "source": [
    "#Medium3\n",
    "s1=input().split()\n",
    "s2=input().split()\n",
    "s=[]\n",
    "for i in s1:\n",
    "    for n in s2:\n",
    "        m=int(i)*int(n)\n",
    "        s.append(m)\n",
    "print(s)\n",
    "        "
   ]
  },
  {
   "cell_type": "code",
   "execution_count": 17,
   "metadata": {},
   "outputs": [
    {
     "name": "stdout",
     "output_type": "stream",
     "text": [
      "3\n",
      "a,b,c,d,e,f,g,h,i,j,k,l,m,n\n",
      "[['a', 'd', 'g', 'j', 'm'], ['b', 'e', 'h', 'k', 'n'], ['c', 'f', 'i', 'l']]\n"
     ]
    }
   ],
   "source": [
    "#Medium4\n",
    "def asif(s,c,n):\n",
    "    s1=[]\n",
    "    for i in s[c:len(s):n]:\n",
    "        s1.append(i)\n",
    "    return(s1)\n",
    "n=int(input())\n",
    "s=input().split(\",\")\n",
    "lst=[]\n",
    "c=0\n",
    "while c<n:\n",
    "    r=asif(s,c,n)\n",
    "    lst.append(r)\n",
    "    c=c+1\n",
    "print(lst)"
   ]
  },
  {
   "cell_type": "code",
   "execution_count": 19,
   "metadata": {},
   "outputs": [
    {
     "name": "stdout",
     "output_type": "stream",
     "text": [
      "1 6 2\n",
      "13 4 6 \n",
      "STOP\n",
      "NOT UB JUMPER\n",
      "NOT UB JUMPER\n"
     ]
    }
   ],
   "source": [
    "#Hard1\n",
    "lst=[]\n",
    "while True:\n",
    "    s=input()\n",
    "    if s=='STOP':\n",
    "        break\n",
    "    else: \n",
    "        s=s.split()\n",
    "        s=[int(i) for i in s]\n",
    "        d=0\n",
    "        r=1\n",
    "        c=1\n",
    "        for i in s:\n",
    "            if c==len(s):\n",
    "                break\n",
    "            else:\n",
    "                if i>=s[c]:\n",
    "                    d=i-s[c]\n",
    "                    if d>=len(s) and r!=0:\n",
    "                        lst.append(\"NOT UB JUMPER\")\n",
    "                        r=0\n",
    "                else:\n",
    "                    d=s[c]-i\n",
    "                    if d>=len(s) and r!=0:\n",
    "                        lst.append(\"NOT UB JUMPER\")\n",
    "                        r=0\n",
    "                c=c+1\n",
    "    if r==1:\n",
    "        lst.append(\"UB JUMPER\")\n",
    "for i in lst:\n",
    "    print(i)"
   ]
  },
  {
   "cell_type": "code",
   "execution_count": 20,
   "metadata": {},
   "outputs": [
    {
     "name": "stdout",
     "output_type": "stream",
     "text": [
      "Bracu1234\n",
      "acruB1324\n"
     ]
    }
   ],
   "source": [
    "#Hard2\n",
    "s=input()\n",
    "sl='abcdefghijklmnopqrstuvwxyz'\n",
    "cl='ABCDEFGHIJKLMNOPQRSTUVWXYZ'\n",
    "od='13579'\n",
    "ev='02468'\n",
    "def asif(a,b):\n",
    "    r=''\n",
    "    for i in a:\n",
    "        if i in b:\n",
    "            r=r+i\n",
    "    return r\n",
    "ans=asif(sl,s)+asif(cl,s)+asif(od,s)+asif(ev,s)\n",
    "print(ans)\n"
   ]
  },
  {
   "cell_type": "code",
   "execution_count": 23,
   "metadata": {},
   "outputs": [
    {
     "name": "stdout",
     "output_type": "stream",
     "text": [
      "6 5\n",
      " 0 0 0 0 0 0\n",
      "2\n"
     ]
    }
   ],
   "source": [
    "#Hard3\n",
    "s1=input().split()\n",
    "s2=input().split()\n",
    "c=0\n",
    "for i in s2:\n",
    "    if (5-int(i))>=(int(s1[1])):\n",
    "        c=c+1\n",
    "team=c//3\n",
    "print(team)"
   ]
  },
  {
   "cell_type": "code",
   "execution_count": null,
   "metadata": {},
   "outputs": [],
   "source": []
  }
 ],
 "metadata": {
  "kernelspec": {
   "display_name": "Python 3",
   "language": "python",
   "name": "python3"
  },
  "language_info": {
   "codemirror_mode": {
    "name": "ipython",
    "version": 3
   },
   "file_extension": ".py",
   "mimetype": "text/x-python",
   "name": "python",
   "nbconvert_exporter": "python",
   "pygments_lexer": "ipython3",
   "version": "3.8.5"
  }
 },
 "nbformat": 4,
 "nbformat_minor": 4
}
