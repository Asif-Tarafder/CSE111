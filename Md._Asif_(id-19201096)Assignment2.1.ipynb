{
 "cells": [
  {
   "cell_type": "code",
   "execution_count": 5,
   "metadata": {},
   "outputs": [
    {
     "name": "stdout",
     "output_type": "stream",
     "text": [
      "5\n",
      "2\n",
      "0.5\n"
     ]
    }
   ],
   "source": [
    "#question1\n",
    "a=int(input())\n",
    "b=int(input())\n",
    "def asif(x,y):\n",
    "    if x==0 or y==0:\n",
    "        return 0\n",
    "    else:\n",
    "        r=x%y\n",
    "        ans=r/y\n",
    "        return ans\n",
    "print(asif(a,b))"
   ]
  },
  {
   "cell_type": "code",
   "execution_count": 7,
   "metadata": {},
   "outputs": [
    {
     "name": "stdout",
     "output_type": "stream",
     "text": [
      "enter hight in cm152\n",
      "enter weight48\n",
      "Score is 20.8. You are Normal"
     ]
    }
   ],
   "source": [
    "#question2\n",
    "hc=int(input('enter hight in cm'))\n",
    "hm=(hc/100)\n",
    "w=int(input(\"enter weight\"))\n",
    "bmi=(w/(hm**2))\n",
    "if bmi< 18.5:\n",
    "    print(\"Score is %.1f\"%bmi,end=\". You are Underweight\") \n",
    "elif bmi>=18.5 and bmi<=24.9:\n",
    "    print(\"Score is %.1f\"%bmi,end=\". You are Normal\") \n",
    "elif bmi>=25 and bmi<=30:\n",
    "    print(\"Score is %.1f\"%bmi,end=\". You are Overweight\") \n",
    "else:\n",
    "    print(\"Score is %.1f\"%bmi,end=\". You are Obese\") "
   ]
  },
  {
   "cell_type": "code",
   "execution_count": 1,
   "metadata": {},
   "outputs": [
    {
     "name": "stdout",
     "output_type": "stream",
     "text": [
      "enter hight in cm175\n",
      "enter weight96\n",
      "Score is 31.3. You are Obese"
     ]
    }
   ],
   "source": [
    "#Easy 2 new\n",
    "hc=int(input('enter hight in cm'))\n",
    "wi=int(input(\"enter weight\"))\n",
    "\n",
    "def diptho(x,y):\n",
    "    hm=(x/100)\n",
    "    bm=(y/(hm**2))\n",
    "    return bm\n",
    "\n",
    "bmi=diptho(hc,wi)\n",
    "if bmi< 18.5:\n",
    "    print(\"Score is %.1f\"%bmi,end=\". You are Underweight\") \n",
    "elif bmi>=18.5 and bmi<=24.9:\n",
    "    print(\"Score is %.1f\"%bmi,end=\". You are Normal\") \n",
    "elif bmi>=25 and bmi<=30:\n",
    "    print(\"Score is %.1f\"%bmi,end=\". You are Overweight\") \n",
    "else:\n",
    "    print(\"Score is %.1f\"%bmi,end=\". You are Obese\") "
   ]
  },
  {
   "cell_type": "code",
   "execution_count": 10,
   "metadata": {},
   "outputs": [
    {
     "name": "stdout",
     "output_type": "stream",
     "text": [
      "enter a number3\n",
      "enter a number16\n",
      "enter a number3\n",
      "45\n"
     ]
    }
   ],
   "source": [
    "#Easy3\n",
    "x=int(input(\"enter a number\"))\n",
    "y=int(input(\"enter a number\"))\n",
    "z=int(input(\"enter a number\"))\n",
    "def asif(mn,mx,div):\n",
    "    add=0\n",
    "    for i in range(mn,mx,div):\n",
    "        add=add+i\n",
    "    return add\n",
    "a=asif(x,y,z)\n",
    "print(a)"
   ]
  },
  {
   "cell_type": "code",
   "execution_count": 30,
   "metadata": {},
   "outputs": [
    {
     "name": "stdout",
     "output_type": "stream",
     "text": [
      "enter a number3\n",
      "enter a number16\n",
      "enter a number3\n",
      "45\n"
     ]
    }
   ],
   "source": [
    "#Easy3 new way\n",
    "x=int(input(\"enter a number\"))\n",
    "y=int(input(\"enter a number\"))\n",
    "z=int(input(\"enter a number\"))\n",
    "def asif(mn,mx,div):\n",
    "    add=0\n",
    "    for i in range(mn,mx):\n",
    "        if i%div==0:\n",
    "            add=add+i\n",
    "    return add\n",
    "a=asif(x,y,z)\n",
    "print(a)"
   ]
  },
  {
   "cell_type": "code",
   "execution_count": 25,
   "metadata": {},
   "outputs": [
    {
     "name": "stdout",
     "output_type": "stream",
     "text": [
      "Beef Burger\n",
      "kjh\n",
      "243.6\n"
     ]
    }
   ],
   "source": [
    "#Medium1\n",
    "b=input()\n",
    "p=input()\n",
    "a=0\n",
    "def tk(burger,place='Mohakhali'):\n",
    "    if burger=='BBQ Chicken Cheese Burger':\n",
    "        a=250+(250*.08)\n",
    "    elif burger=='Beef Burger'  :\n",
    "        a=170+(170*.08)\n",
    "    elif burger=='Naga Drums':\n",
    "        a=200+(200*.08)\n",
    "    else:\n",
    "        return (\"Please input correctly like sample \")\n",
    "    if place==\"Mohakhali\" or place==\"\":\n",
    "        a=a+40\n",
    "    else:\n",
    "        a=a+60\n",
    "    return a\n",
    "amount=tk(b,p)\n",
    "print(amount)"
   ]
  },
  {
   "cell_type": "code",
   "execution_count": 34,
   "metadata": {},
   "outputs": [
    {
     "name": "stdout",
     "output_type": "stream",
     "text": [
      "Beef Burger\n",
      "hjk\n",
      "243.6\n"
     ]
    }
   ],
   "source": [
    "#Medium1 new way\n",
    "b=input()\n",
    "p=input()\n",
    "a=0\n",
    "def tk(burger,place='Mohakhali'):\n",
    "    if burger=='BBQ Chicken Cheese Burger':\n",
    "        a=250+(250*.08)\n",
    "    elif burger=='Beef Burger'  :\n",
    "        a=170+(170*.08)\n",
    "    elif burger=='Naga Drums':\n",
    "        a=200+(200*.08)\n",
    "    else:\n",
    "        return (\"Please input correctly like sample \")\n",
    "    if place == \"Mohakhali\":\n",
    "        a=a+40\n",
    "    else:\n",
    "        a=a+60\n",
    "    return a\n",
    "if p==\"\":\n",
    "    amount=tk(b)\n",
    "else:\n",
    "    amount=tk(b,p)\n",
    "print(amount)"
   ]
  },
  {
   "cell_type": "code",
   "execution_count": 23,
   "metadata": {},
   "outputs": [
    {
     "name": "stdout",
     "output_type": "stream",
     "text": [
      "enter gmail: sdfghjk\n",
      "new domain: fghjk\n",
      "old domain: ghj\n",
      "Changed: fghjk\n"
     ]
    }
   ],
   "source": [
    "#Medium2\n",
    "g=input(\"enter gmail: \")\n",
    "nd=input(\"new domain: \")\n",
    "od=input(\"old domain: \")\n",
    "def asif(x,y,z=''):\n",
    "    if z=='' :\n",
    "        gm=\"Unchanged: \"+g\n",
    "        return gm\n",
    "    else:\n",
    "        c=g.find(\"@\")\n",
    "        gm=\"Changed: \"+(g[0:c+1])+y\n",
    "        return(gm)\n",
    "gmail=asif(g,nd,od)\n",
    "print(gmail)\n",
    "        "
   ]
  },
  {
   "cell_type": "code",
   "execution_count": 35,
   "metadata": {},
   "outputs": [
    {
     "name": "stdout",
     "output_type": "stream",
     "text": [
      "enter gmail: sdfghjkl\n",
      "new domain: kjhg'\n",
      "old domain: c\n",
      "Changed: kjhg'\n"
     ]
    }
   ],
   "source": [
    "#Medium2  new way\n",
    "g=input(\"enter gmail: \")\n",
    "nd=input(\"new domain: \")\n",
    "od=input(\"old domain: \")\n",
    "def asif(x,y,z=\"sheba.xyz\"):\n",
    "    if z=='sheba.xyz' :\n",
    "        gm=\"Unchanged: \"+g\n",
    "        return gm\n",
    "    else:\n",
    "        c=g.find(\"@\")\n",
    "        gm=\"Changed: \"+(g[0:c+1])+y\n",
    "        return(gm)\n",
    "if od==\"\":\n",
    "    print(asif(g,nd))\n",
    "else:\n",
    "    print(asif(g,nd,od))\n",
    "        "
   ]
  },
  {
   "cell_type": "code",
   "execution_count": 5,
   "metadata": {},
   "outputs": [
    {
     "name": "stdout",
     "output_type": "stream",
     "text": [
      "asif@sdf\n",
      "Vowels: a,i. Total number of vowels: 2\n"
     ]
    }
   ],
   "source": [
    "#Medium3\n",
    "name=input()\n",
    "def vowels(n):\n",
    "    r=\"Vowels: \"\n",
    "    c=0\n",
    "    for i in name:\n",
    "        if i=='a' or i=='e' or i=='i' or i=='o' or i=='u' or i=='A' or i=='E' or i=='I' or i=='O' or i=='U':\n",
    "            r=r+i+','\n",
    "            c=c+1\n",
    "    v=len(r) # . print ar jonno \n",
    "    i=0\n",
    "    if c==0 :\n",
    "        print('No vowels in the name')\n",
    "    else: \n",
    "        while i<v:\n",
    "            if i==v-1:\n",
    "                print(\". Total number of vowels:\",c)\n",
    "            else:\n",
    "                print(r[i],end=\"\")\n",
    "            i=i+1    \n",
    "v=vowels(name)        "
   ]
  },
  {
   "cell_type": "code",
   "execution_count": 19,
   "metadata": {},
   "outputs": [
    {
     "name": "stdout",
     "output_type": "stream",
     "text": [
      "sdfghjkl\n",
      "No vowels in the name\n"
     ]
    }
   ],
   "source": [
    "#medium3 new way \n",
    "s=input()\n",
    "def asif(name):\n",
    "    r=\"aeiouAEIOU\"\n",
    "    l=len(s)\n",
    "    c=0\n",
    "    output=\"\"\n",
    "    vowelcount=0\n",
    "    while c<l:\n",
    "        if s[c] in r:\n",
    "            vowelcount=vowelcount+1\n",
    "            output=output+s[c]+','\n",
    "        c=c+1\n",
    "    l=len(output)\n",
    "    if vowelcount==0:\n",
    "        print('No vowels in the name')\n",
    "    else:\n",
    "        print((output[0:l-1])+\". Total number of vowels:\",vowelcount)\n",
    "\n",
    "a=asif(s)\n"
   ]
  },
  {
   "cell_type": "code",
   "execution_count": 20,
   "metadata": {},
   "outputs": [
    {
     "name": "stdout",
     "output_type": "stream",
     "text": [
      "sdfghjk\n",
      "Not a Palindrome\n"
     ]
    }
   ],
   "source": [
    "#Medium4\n",
    "n=input()\n",
    "n1=\"\"\n",
    "for i in n:\n",
    "    if i!=\" \":\n",
    "        n1=n1+i\n",
    "n2=\"\"\n",
    "for i in n1:\n",
    "    n2=i+n2\n",
    "if n2==n1:\n",
    "    print('Palindrome')\n",
    "else:\n",
    "    print('Not a Palindrome')"
   ]
  },
  {
   "cell_type": "code",
   "execution_count": 22,
   "metadata": {},
   "outputs": [
    {
     "name": "stdout",
     "output_type": "stream",
     "text": [
      "enter name:  Bob\n",
      "enter salary: 50000\n",
      "yyyy-mm-dd 2007-05-10\n",
      " Bob: 22500\n"
     ]
    }
   ],
   "source": [
    "#Hard1\n",
    "from datetime import datetime,date\n",
    "n=input(\"enter name: \")\n",
    "s=int(input(\"enter salary: \"))\n",
    "d=input(\"yyyy-mm-dd \")\n",
    "year=d[0:4]\n",
    "month=d[5:7]\n",
    "day=d[8:]\n",
    "def calculateAge(joinDate): \n",
    "    today = date.today() \n",
    "    age = today.year - joinDate.year \n",
    "    age= age\n",
    "    return age\n",
    "duration=(calculateAge(date(int(year),int(month),int(day))))\n",
    "if duration<5:\n",
    "    bouns=s*.1\n",
    "elif duration>=5 and duration<=10:\n",
    "    bouns=s*.1+5000\n",
    "else:\n",
    "    bouns=s*.15+15000\n",
    "print(n+':',\"%.0f\"%bouns)\n"
   ]
  },
  {
   "cell_type": "code",
   "execution_count": 37,
   "metadata": {},
   "outputs": [
    {
     "name": "stdout",
     "output_type": "stream",
     "text": [
      "4000\n",
      "10 years 11 months and 20 days\n"
     ]
    }
   ],
   "source": [
    "#Hard2\n",
    "d=int(input())\n",
    "y=d//365\n",
    "d=d%365\n",
    "m=d//30\n",
    "d=d%30\n",
    "print(y,\"years\",m,\"months and\",d,\"days\")\n",
    "\n"
   ]
  },
  {
   "cell_type": "code",
   "execution_count": 2,
   "metadata": {},
   "outputs": [
    {
     "name": "stdout",
     "output_type": "stream",
     "text": [
      "4320\n",
      "11 years 10 months and 5 days\n"
     ]
    }
   ],
   "source": [
    "#Hard2 new way\n",
    "x=int(input())\n",
    "def asif(d):\n",
    "    y=d//365\n",
    "    d=d%365\n",
    "    m=d//30\n",
    "    d=d%30\n",
    "    print(y,\"years\",m,\"months and\",d,\"days\")\n",
    "asif(x)\n"
   ]
  },
  {
   "cell_type": "code",
   "execution_count": 3,
   "metadata": {},
   "outputs": [
    {
     "name": "stdout",
     "output_type": "stream",
     "text": [
      "my favourite animal is a dog. a dog has sharp teeth so that it can eat flesh very easily. do you know my pet dog’s name? i love my pet very much.\n",
      "My favourite animal is a dog. A dog has sharp teeth so that it can eat flesh very easily. Do you know my pet dog’s name? I love my pet very much.\n"
     ]
    }
   ],
   "source": [
    "#question\n",
    "def capitalization(text):\n",
    "    i = 0\n",
    "\n",
    "    while i < len(text):\n",
    "        if i == 0 :\n",
    "            print(text[i].upper(), end=\"\")\n",
    "        elif i==len(text)-1:\n",
    "            print(text[i])\n",
    "        else:\n",
    "            if (text[i] == \".\" or text[i] == \"!\" or text[i] == \"?\"):\n",
    "                print(text[i], end=\"\")\n",
    "\n",
    "                if text[i+1]==\" \":\n",
    "                    i = i+1\n",
    "                    print(text[i],end=\"\")\n",
    "                    i+=1\n",
    "                    print(text[i].upper(),end=\"\")\n",
    "                    i = i+1\n",
    "                    continue\n",
    "                else:\n",
    "                    i =i+1\n",
    "                    print(text[i].upper(), end=\"\")\n",
    "                    i=i+1\n",
    "\n",
    "            if (text[i] == \"i\" and text[i - 1] == \" \" and text[i + 1] == \" \"):\n",
    "                print(text[i].upper(), end=\"\")\n",
    "                i =i+1\n",
    "                continue\n",
    "            print(text[i], end=\"\")\n",
    "        i =i+1\n",
    "\n",
    "\n",
    "text = input()\n",
    "capitalization(text)"
   ]
  }
 ],
 "metadata": {
  "kernelspec": {
   "display_name": "Python 3 (ipykernel)",
   "language": "python",
   "name": "python3"
  },
  "language_info": {
   "codemirror_mode": {
    "name": "ipython",
    "version": 3
   },
   "file_extension": ".py",
   "mimetype": "text/x-python",
   "name": "python",
   "nbconvert_exporter": "python",
   "pygments_lexer": "ipython3",
   "version": "3.9.12"
  }
 },
 "nbformat": 4,
 "nbformat_minor": 4
}
