{
 "cells": [
  {
   "cell_type": "code",
   "execution_count": 4,
   "metadata": {},
   "outputs": [
    {
     "name": "stdout",
     "output_type": "stream",
     "text": [
      "The The Shining which is a Psychological horror is just out of the world,mind-blowing!\n",
      "=========================\n",
      "The A Beautiful Mind which is a biography is just out of the world,mind-blowing!\n",
      "=========================\n"
     ]
    }
   ],
   "source": [
    "#Q-1\n",
    "class book:\n",
    "    def __init__(self, name):\n",
    "        self.name = name\n",
    "        self.genre='biography'\n",
    "    def review(self):\n",
    "          print('This book is just out of the world,mind-blowing!')\n",
    "class fiction(book):\n",
    "    def __init__(self, name,typ):\n",
    "        super().__init__(name)\n",
    "        self.genre=typ\n",
    "    def review(self):\n",
    "          print('The',self.name,'which is a',self.genre,'is just out of the world,mind-blowing!')\n",
    "class nonfiction(book):\n",
    "    def __init__(self, name):\n",
    "        super().__init__(name)\n",
    "    def review(self):\n",
    "          print('The',self.name,'which is a',self.genre,'is just out of the world,mind-blowing!')\n",
    "##########################################################\n",
    "b1 = fiction('The Shining','Psychological horror')\n",
    "b2 = nonfiction('A Beautiful Mind')\n",
    "b1.review()\n",
    "print('=========================')\n",
    "b2.review()\n",
    "print('=========================')\n",
    "\n"
   ]
  },
  {
   "cell_type": "code",
   "execution_count": 4,
   "metadata": {},
   "outputs": [
    {
     "name": "stdout",
     "output_type": "stream",
     "text": [
      "New Tennis Player Added -Rafael Nadal fromSpain\n",
      "==============================\n"
     ]
    },
    {
     "ename": "KeyError",
     "evalue": "2021",
     "output_type": "error",
     "traceback": [
      "\u001b[1;31m---------------------------------------------------------------------------\u001b[0m",
      "\u001b[1;31mKeyError\u001b[0m                                  Traceback (most recent call last)",
      "\u001b[1;32m<ipython-input-4-982b03dd4f44>\u001b[0m in \u001b[0;36m<module>\u001b[1;34m\u001b[0m\n\u001b[0;32m     31\u001b[0m \u001b[0mp1\u001b[0m \u001b[1;33m=\u001b[0m \u001b[0mTennisPlayer\u001b[0m\u001b[1;33m(\u001b[0m\u001b[1;34m\"Rafael Nadal\"\u001b[0m\u001b[1;33m,\u001b[0m\u001b[1;34m\"Spain\"\u001b[0m\u001b[1;33m)\u001b[0m\u001b[1;33m\u001b[0m\u001b[1;33m\u001b[0m\u001b[0m\n\u001b[0;32m     32\u001b[0m \u001b[0mprint\u001b[0m\u001b[1;33m(\u001b[0m\u001b[1;34m\"==============================\"\u001b[0m\u001b[1;33m)\u001b[0m\u001b[1;33m\u001b[0m\u001b[1;33m\u001b[0m\u001b[0m\n\u001b[1;32m---> 33\u001b[1;33m \u001b[0mp1\u001b[0m\u001b[1;33m.\u001b[0m\u001b[0maddGrandSlams\u001b[0m\u001b[1;33m(\u001b[0m\u001b[1;34m'Wimbledon'\u001b[0m\u001b[1;33m,\u001b[0m\u001b[1;36m2021\u001b[0m\u001b[1;33m,\u001b[0m \u001b[1;34m'French Open'\u001b[0m\u001b[1;33m,\u001b[0m\u001b[1;36m2021\u001b[0m\u001b[1;33m,\u001b[0m\u001b[1;34m'Australian Open'\u001b[0m\u001b[1;33m,\u001b[0m\u001b[1;36m2020\u001b[0m\u001b[1;33m)\u001b[0m\u001b[1;33m\u001b[0m\u001b[1;33m\u001b[0m\u001b[0m\n\u001b[0m\u001b[0;32m     34\u001b[0m \u001b[0mprint\u001b[0m\u001b[1;33m(\u001b[0m\u001b[1;34m\"==============================\"\u001b[0m\u001b[1;33m)\u001b[0m\u001b[1;33m\u001b[0m\u001b[1;33m\u001b[0m\u001b[0m\n\u001b[0;32m     35\u001b[0m \u001b[0mprint\u001b[0m\u001b[1;33m(\u001b[0m\u001b[0mp1\u001b[0m\u001b[1;33m)\u001b[0m\u001b[1;33m\u001b[0m\u001b[1;33m\u001b[0m\u001b[0m\n",
      "\u001b[1;32m<ipython-input-4-982b03dd4f44>\u001b[0m in \u001b[0;36maddGrandSlams\u001b[1;34m(self, *a)\u001b[0m\n\u001b[0;32m     18\u001b[0m     \u001b[1;32mdef\u001b[0m \u001b[0maddGrandSlams\u001b[0m\u001b[1;33m(\u001b[0m\u001b[0mself\u001b[0m\u001b[1;33m,\u001b[0m\u001b[1;33m*\u001b[0m\u001b[0ma\u001b[0m\u001b[1;33m)\u001b[0m\u001b[1;33m:\u001b[0m\u001b[1;33m\u001b[0m\u001b[1;33m\u001b[0m\u001b[0m\n\u001b[0;32m     19\u001b[0m         \u001b[1;32mfor\u001b[0m \u001b[0mi\u001b[0m \u001b[1;32min\u001b[0m \u001b[0mrange\u001b[0m\u001b[1;33m(\u001b[0m\u001b[1;36m1\u001b[0m\u001b[1;33m,\u001b[0m\u001b[0mlen\u001b[0m\u001b[1;33m(\u001b[0m\u001b[0ma\u001b[0m\u001b[1;33m)\u001b[0m\u001b[1;33m,\u001b[0m\u001b[1;36m2\u001b[0m\u001b[1;33m)\u001b[0m\u001b[1;33m:\u001b[0m\u001b[1;33m\u001b[0m\u001b[1;33m\u001b[0m\u001b[0m\n\u001b[1;32m---> 20\u001b[1;33m             \u001b[1;32mif\u001b[0m \u001b[0mself\u001b[0m\u001b[1;33m.\u001b[0m\u001b[0md\u001b[0m\u001b[1;33m[\u001b[0m\u001b[0ma\u001b[0m\u001b[1;33m[\u001b[0m\u001b[0mi\u001b[0m\u001b[1;33m]\u001b[0m\u001b[1;33m]\u001b[0m \u001b[1;32min\u001b[0m \u001b[0mself\u001b[0m\u001b[1;33m.\u001b[0m\u001b[0md\u001b[0m\u001b[1;33m:\u001b[0m\u001b[1;33m\u001b[0m\u001b[1;33m\u001b[0m\u001b[0m\n\u001b[0m\u001b[0;32m     21\u001b[0m                 \u001b[0mself\u001b[0m\u001b[1;33m.\u001b[0m\u001b[0md\u001b[0m\u001b[1;33m[\u001b[0m\u001b[0ma\u001b[0m\u001b[1;33m[\u001b[0m\u001b[0mi\u001b[0m\u001b[1;33m]\u001b[0m\u001b[1;33m]\u001b[0m\u001b[1;33m=\u001b[0m\u001b[0mself\u001b[0m\u001b[1;33m.\u001b[0m\u001b[0md\u001b[0m\u001b[1;33m[\u001b[0m\u001b[0ma\u001b[0m\u001b[1;33m[\u001b[0m\u001b[0mi\u001b[0m\u001b[1;33m]\u001b[0m\u001b[1;33m]\u001b[0m\u001b[1;33m+\u001b[0m\u001b[1;33m[\u001b[0m\u001b[0ma\u001b[0m\u001b[1;33m[\u001b[0m\u001b[0mi\u001b[0m\u001b[1;33m-\u001b[0m\u001b[1;36m1\u001b[0m\u001b[1;33m]\u001b[0m\u001b[1;33m]\u001b[0m\u001b[1;33m\u001b[0m\u001b[1;33m\u001b[0m\u001b[0m\n\u001b[0;32m     22\u001b[0m             \u001b[1;32melse\u001b[0m\u001b[1;33m:\u001b[0m\u001b[1;33m\u001b[0m\u001b[1;33m\u001b[0m\u001b[0m\n",
      "\u001b[1;31mKeyError\u001b[0m: 2021"
     ]
    }
   ],
   "source": [
    "class Player:\n",
    "    total_player = 0\n",
    "    def __init__(self,name,country):\n",
    "        self.name = name\n",
    "        self.country = country\n",
    "\n",
    "    def __str__(self):\n",
    "        return  'Name: '+self.name+'\\nCountry Name: '+str(self.country)\n",
    "\n",
    "class TennisPlayer(Player):\n",
    "    def __init__(self,name,country):\n",
    "        super().__init__(name,country)\n",
    "        print(\"New Tennis Player Added -\"+self.name+\" from\"+self.country)\n",
    "        Player.total_player+=1\n",
    "        self.d={}\n",
    "    \n",
    "    \n",
    "    def addGrandSlams(self,*a):\n",
    "        for i in range(1,len(a),2):\n",
    "            if self.d[a[i]] in self.d:\n",
    "                self.d[a[i]]=self.d[a[i]]+[a[i-1]]\n",
    "            else:\n",
    "                self.d[a[i]]=[a[i-1]]\n",
    "    def __str__(self):\n",
    "        print('Name: '+self.name+'\\nCountry Name: '+str(self.country))\n",
    "        for x,y in d.items():\n",
    "            print(\"Grand Slams:\")\n",
    "            print(x,\":\",y)\n",
    "        return\"\"\n",
    "\n",
    "p1 = TennisPlayer(\"Rafael Nadal\",\"Spain\")\n",
    "print(\"==============================\")\n",
    "p1.addGrandSlams('Wimbledon',2021, 'French Open',2021,'Australian Open',2020)\n",
    "print(\"==============================\")\n",
    "print(p1)\n",
    "print(\"==============================\")\n",
    "p2 = TennisPlayer(\"Andy Murray\", 'UK')\n",
    "print(\"==============================\")\n",
    "p2.addGrandSlams('Wimbledon',2017, 'US Open',2008,'Australian Open',2017,'Australian Open',2018)\n",
    "print(\"==============================\")\n",
    "print(p2)\n",
    "print(\"==============================\")\n",
    "print('Total Players: ', Player.total_player)\n",
    "\n"
   ]
  },
  {
   "cell_type": "code",
   "execution_count": 21,
   "metadata": {},
   "outputs": [
    {
     "name": "stdout",
     "output_type": "stream",
     "text": [
      "{}\n",
      "===============================\n",
      "========Details of Faculty======\n",
      "Faculty_ID:Unknown_Messi_1 \n",
      "Name:Lionel Messi \n",
      "Department:CSE \n",
      "Designation: Lecturer\n",
      "Joining Date:Not available\n",
      "Number of Faculties:1\n",
      "####################\n",
      "========Details of Faculty======\n",
      "Faculty_ID:2017_Ronaldo_2 \n",
      "Name:Ronaldo \n",
      "Department:BBS \n",
      "Designation: Professor\n",
      "Joining Date:2017, December 2\n",
      "Number of Faculties:2\n",
      "####################\n",
      "========Details of Faculty======\n",
      "Faculty_ID:2020_Sheldon Lee Cooper_6 \n",
      "Name:Sheldon Lee Cooper \n",
      "Department:PHY \n",
      "Designation: Chairperson\n",
      "Joining Date:2020, April 16\n",
      "Number of Faculties:3\n",
      "===============================\n",
      "{'Unknown_Messi_1': ['Lionel Messi', 'CSE', 'Lecturer', 'Not available'], '2017_Ronaldo_2': ['Ronaldo', 'BBS', 'Professor', '2017, December 2'], '2020_Sheldon Lee Cooper_6': ['Sheldon Lee Cooper', 'PHY', 'Chairperson', '2020, April 16']}\n"
     ]
    }
   ],
   "source": [
    "class Person:\n",
    "    faculty_details = {}\n",
    "    def __init__(self, name):\n",
    "        self.name = name\n",
    "\n",
    "    def __str__(self):\n",
    "        return \"Name:{}\\n\".format(self.name)\n",
    "###############################################################\n",
    "class Faculty(Person):\n",
    "    def __init__(self, name,dep,post,join=\"Not available\"):\n",
    "        super().__init__(name)\n",
    "        self.dept=dep\n",
    "        self.post=post\n",
    "        self.join=join\n",
    "        self.id=\"Unknown_Messi_1\"\n",
    "        if self.join!=\"Not available\":\n",
    "            i=self.join.split(\",\")\n",
    "            self.id=i[0]+\"_\"+self.name+\"_\"+i[-1][-1]\n",
    "        else:\n",
    "            self.id=\"Unknown_Messi_1\"\n",
    "        Person.faculty_details[self.id]=[name,dep,post,join]\n",
    "        \n",
    "    def __str__(self):\n",
    "        return f\"Faculty_ID:{self.id} \\nName:{self.name} \\nDepartment:{self.dept} \\nDesignation: {self.post}\\nJoining Date:{self.join}\\nNumber of Faculties:{len(Person.faculty_details)}\"\n",
    "    \n",
    "    @classmethod\n",
    "    def createFaculty(cls,a,b,c,d):\n",
    "        obj=cls(a,b,c,d)\n",
    "        return obj\n",
    "#Write your code here\n",
    "print(Person.faculty_details)\n",
    "print(\"===============================\")\n",
    "messi = Faculty(\"Lionel Messi\", \"CSE\", \"Lecturer\")\n",
    "print(\"========Details of Faculty======\")\n",
    "print(messi)\n",
    "print(\"####################\")\n",
    "ronaldo = Faculty(\"Ronaldo\", \"BBS\", \"Professor\",\"2017, December 2\")\n",
    "print(\"========Details of Faculty======\")\n",
    "print(ronaldo)\n",
    "print(\"####################\")\n",
    "sheldon = Faculty.createFaculty(\"Sheldon Lee Cooper\", \"PHY\", \"Chairperson\",\"2020, April 16\")\n",
    "print(\"========Details of Faculty======\")\n",
    "print(sheldon)\n",
    "print(\"===============================\")\n",
    "print(Person.faculty_details)\n",
    "\n"
   ]
  },
  {
   "cell_type": "code",
   "execution_count": 19,
   "metadata": {},
   "outputs": [
    {
     "name": "stdout",
     "output_type": "stream",
     "text": [
      "2074\n",
      "Amazing year\n"
     ]
    }
   ],
   "source": [
    "s=int(input())\n",
    "def function_name(y):\n",
    "    if \"4\" in str(y) and \"7\" in str(y):\n",
    "        print(\"Amazing year\")\n",
    "    elif \"4\" in str(y) or \"7\" in str(y):\n",
    "        print(\"Beautiful year\")\n",
    "    else:\n",
    "        print(\"Ugly year\")\n",
    "function_name(s)\n"
   ]
  },
  {
   "cell_type": "code",
   "execution_count": null,
   "metadata": {},
   "outputs": [],
   "source": [
    "You will be given a dictionary, where the name of a person will be the keys \n",
    "and a list of names of his/her friends will be the values.\n",
    "For example, in the following example dictionary,\n",
    "{'Alice'🙁'Tomi', 'Peter', 'Carol'], 'x'🙁'a', 'b', 'c']}\n",
    "Here, Tom, Peter and Carol are friends of Alice. Additionally,  a,b and c \n",
    "are friends of x.\n",
    "\n",
    "You'll be given the names of two people as input. You need to find out how \n",
    "many common friends do they have.\n",
    "\n",
    "Sample Input 1:\n",
    "\n",
    "First Name: Alice\n",
    "Second Name: Bob\n",
    "\n",
    "Sample Output 1:\n",
    "2\n",
    "Explanation1:\n",
    "Alice and Bob have two(2) friends in common namely Tom and Peter.\n",
    "\n",
    "================================================"
   ]
  },
  {
   "cell_type": "code",
   "execution_count": 25,
   "metadata": {},
   "outputs": [
    {
     "name": "stdout",
     "output_type": "stream",
     "text": [
      "Alice\n",
      "Bob\n",
      "2\n"
     ]
    }
   ],
   "source": [
    "d={'Alice':['Tom', 'Peter', 'Carol'], 'Bob':['Tom', 'Peter', 'David']}\n",
    "s1=input()\n",
    "s2=input()\n",
    "c=0\n",
    "for i in d[\"Alice\"]:\n",
    "    for j in d[\"Bob\"]:\n",
    "        if i==j:\n",
    "            c+=1\n",
    "print(c)\n",
    "\n"
   ]
  },
  {
   "cell_type": "code",
   "execution_count": 28,
   "metadata": {},
   "outputs": [],
   "source": [
    "def character_test(num):\n",
    "    dictonary={\"first\":0, \"last\":0}\n",
    "    for cha in num:\n",
    "        if cha.isupper():\n",
    "           dictonary[\"first\"]+=1\n",
    "        elif cha.islower():\n",
    "           dictonary[\"last\"]+=1\n",
    "        num1=dictonary[\"first\"]\n",
    "        num2=dictonary[\"last\"]\n",
    "    print (\"No. of Upper case characters : \", num1)\n",
    "    print (\"No. of Lower case Characters : \", num2)\n"
   ]
  },
  {
   "cell_type": "code",
   "execution_count": 40,
   "metadata": {},
   "outputs": [
    {
     "name": "stdout",
     "output_type": "stream",
     "text": [
      "This is CSE110 course, Programming is FUN, We love Python\n",
      "{1: (4, 11), 2: (4, 12), 3: (2, 10)}\n"
     ]
    }
   ],
   "source": [
    "s=input().split(\",\")\n",
    "d={}\n",
    "l=0\n",
    "c=0\n",
    "k=1\n",
    "for a in s:\n",
    "    for i in a:\n",
    "        if ord(i)>=97 and ord(i)<=122:\n",
    "            l=l+1\n",
    "        elif ord(i)>=65 and ord(i)<=90:\n",
    "            c=c+1\n",
    "    d[k]=(c,l)\n",
    "    k+=1\n",
    "    l=0\n",
    "    c=0\n",
    "print(d)\n",
    "        \n",
    "        "
   ]
  },
  {
   "cell_type": "code",
   "execution_count": null,
   "metadata": {},
   "outputs": [],
   "source": []
  },
  {
   "cell_type": "code",
   "execution_count": 38,
   "metadata": {},
   "outputs": [
    {
     "name": "stdout",
     "output_type": "stream",
     "text": [
      "8, 7, 6, 9\n",
      "7.5 , Average\n"
     ]
    }
   ],
   "source": [
    "s=input().split(\",\")\n",
    "def Function(l):\n",
    "    avg=0\n",
    "    for i in l:\n",
    "        avg=avg+int(i)\n",
    "    avg=avg/len(l)\n",
    "    if avg>=0 and avg<5:\n",
    "        print(avg,\", Poor marks\")\n",
    "    elif avg>=5 and avg<8:\n",
    "        print(avg,\", Average\")\n",
    "    elif avg==8:\n",
    "        print(avg,\", Good\")\n",
    "    elif avg>8 and avg<=10:\n",
    "        print(avg,\", Great\")\n",
    "    else:\n",
    "        print('No average',\", Impossible score!!\")\n",
    "Function(s)   \n",
    "        "
   ]
  },
  {
   "cell_type": "code",
   "execution_count": null,
   "metadata": {},
   "outputs": [],
   "source": [
    "Write a python program that asks the user to give multiple lines separated \n",
    "by commas. Your program should count the uppercase and lowercase letters of \n",
    "each individual line. Then make a dictionary where keys are the line \n",
    "numbers and values are the frequency of uppercase and lowercase letters \n",
    "present in each individual line.\n",
    "\n",
    "================================================\n",
    "Sample Input 1:\n",
    "This is CSE110 course, Programming is FUN, We love Python\n",
    "Sample Output 1:\n",
    "{1: (4, 11), 2: (4, 12), 3: (2, 10)}\n",
    "Explanation1:\n",
    "In the first line, 4 uppercase letters (T, C, S, E) and 11 lowercase \n",
    "letters (h, i, s, i, s, c, o, u, r, s, e) are present. Similarly, in the \n",
    "2nd line, 4 uppercase letters (P, F, U, N) and 12 lowercase letters (r, o, \n",
    "g, r, a, m, m, i, n, g, i, s) are present.\n",
    "\n",
    "================================================\n",
    "Sample Input 2:\n",
    "Our next CSE course is CSE111, We love OOP\n",
    "\n",
    "Sample Output 2:\n",
    "{1: (7, 14), 2: (4, 5)}\n",
    "Explanation2:\n",
    "In the first line, 7 uppercase letters (O, C, S, E, C, S, E) and 14 \n",
    "lowercase letters (u, r, n, e, x, t, c, o, u, r, s, e, i, s) are present. \n",
    "Similarly, in the 2nd line, 4 uppercase letters (W, O, O, P) and 5 \n",
    "lowercase letters (e, l, o, v, e) are present.\n",
    "\n",
    "𝗤𝘂𝗲𝘀𝘁𝗶𝗼𝗻 2 (5 Marks):\n",
    "Write a python function that takes a list as a parameter. The list contains \n",
    "all the quiz marks of a student. The valid score for each quiz is from \n",
    "0(inclusive) to 10(inclusive). Thus the valid range of the average score is \n",
    "from 0(inclusive) to 10(inclusive). Then your function should return the \n",
    "average of the given scores as well as the information according to the \n",
    "provided conditions below. Then, finally print the returned values in the \n",
    "function call.\n",
    "If the average score is Less than 5, then return “Poor marks”.\n",
    "If the average score is Greater than 4 and less than 8, then return \n",
    "“Average”.\n",
    "If the average score is Equal to 8, then return  “Good”.\n",
    "If the average score is Above 8, then return  “Great”.\n",
    "For any invalid inputs (out of valid range), return  “Impossible score!!”.\n",
    "\n",
    "==========================================\n",
    "Sample Input1:\n",
    "8, 7, 6, 9\n",
    "Function Call1:\n",
    "function_name([8, 7, 6, 9])\n",
    "Sample Output1:\n",
    "(7.5, 'Average')\n",
    "Explanation1:\n",
    "The total number of the quiz is 4. The quiz marks are 8, 7, 6 and 9. \n",
    "Average = (8+7+6+9)/4 is 7.5 which falls under the “Greater than 4 and less \n",
    "than 8” condition, so the status is “Average”.\n",
    "\n",
    "==========================================\n",
    "Sample Input2:\n",
    "8, 15, 6\n",
    "Function Call2:\n",
    "function_name([8, 15, 6])\n",
    "Sample Output2:\n",
    "('No average', 'Impossible score!!')\n",
    "\n",
    "Explanation2:\n",
    "The total number of the quiz is 3. The quiz marks are 8, 15, and 6. Quiz \n",
    "marks 15  does not fall under the valid range of 0 to 10. Thus it returns \n",
    "“Impossible score!!”\n"
   ]
  }
 ],
 "metadata": {
  "kernelspec": {
   "display_name": "Python 3",
   "language": "python",
   "name": "python3"
  },
  "language_info": {
   "codemirror_mode": {
    "name": "ipython",
    "version": 3
   },
   "file_extension": ".py",
   "mimetype": "text/x-python",
   "name": "python",
   "nbconvert_exporter": "python",
   "pygments_lexer": "ipython3",
   "version": "3.8.5"
  }
 },
 "nbformat": 4,
 "nbformat_minor": 4
}
