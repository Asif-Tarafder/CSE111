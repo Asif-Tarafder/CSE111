{
 "cells": [
  {
   "cell_type": "code",
   "execution_count": 5,
   "metadata": {},
   "outputs": [
    {
     "name": "stdout",
     "output_type": "stream",
     "text": [
      "Quiz 1 (out of 10): 10\n",
      "Quiz 2 (out of 10): 10\n",
      "Lab (out of 30): 30\n",
      "Mid (out of 20): 20\n",
      "Final (out of 30): 30\n",
      "Total marks: 100\n"
     ]
    }
   ],
   "source": [
    "#task-01\n",
    "class Marks:\n",
    "    def __init__(self,m):\n",
    "        self.mark=m\n",
    "    def __add__(self,other):\n",
    "        a=self.mark+other.mark\n",
    "        o=Marks(a)\n",
    "        return o\n",
    "\n",
    "Q1 = Marks(int(input(\"Quiz 1 (out of 10): \")))\n",
    "Q2 = Marks(int(input(\"Quiz 2 (out of 10): \")))\n",
    "Lab = Marks(int(input(\"Lab (out of 30): \")))\n",
    "Mid = Marks(int(input(\"Mid (out of 20): \")))\n",
    "Final = Marks(int(input(\"Final (out of 30): \")))\n",
    "total = Q1 + Q2 + Lab + Mid + Final\n",
    "print(\"Total marks: {}\".format(total.mark))"
   ]
  },
  {
   "cell_type": "code",
   "execution_count": 8,
   "metadata": {},
   "outputs": [
    {
     "name": "stdout",
     "output_type": "stream",
     "text": [
      "====================================\n",
      "Name:Saad Abdullah\n",
      "Department:CSE\n",
      "List of courses\n",
      "====================================\n",
      "CSE 110 Programming Language I\n",
      "CSE 111 Programming Language-II\n",
      "====================================\n",
      "====================================\n",
      "Name:Mumit Khan\n",
      "Department:CSE\n",
      "List of courses\n",
      "====================================\n",
      "CSE 220 Data Structures\n",
      "CSE 221 Algorithms\n",
      "CCSE 230 Discrete Mathematics\n",
      "====================================\n",
      "====================================\n",
      "Name:Sadia Kazi\n",
      "Department:CSE\n",
      "List of courses\n",
      "====================================\n",
      "CSE 310 Object Oriented Programming\n",
      "CSE 320 Data Communications\n",
      "CSE 340 Computer Architecture\n",
      "====================================\n"
     ]
    }
   ],
   "source": [
    "#task-02\n",
    "class Teacher:\n",
    "    def __init__(self,n,d):\n",
    "        self.name=n\n",
    "        self.dep=d\n",
    "        self.c=[]\n",
    "    def addCourse(self,a):\n",
    "        self.c.append(a.c)\n",
    "    def printDetail(self):\n",
    "        print(\"====================================\")\n",
    "        print(\"Name:\"+self.name)\n",
    "        print(\"Department:\"+self.dep)\n",
    "        print(\"List of courses\")\n",
    "        print(\"====================================\")\n",
    "        for i in self.c:\n",
    "            print(i)\n",
    "        print(\"====================================\")\n",
    "        \n",
    "    #def __add__()\n",
    "    \n",
    "class Course:\n",
    "    def __init__(self,a):\n",
    "        self.c=a\n",
    "        \n",
    "    \n",
    "\n",
    "t1 = Teacher(\"Saad Abdullah\", \"CSE\")\n",
    "t2 = Teacher(\"Mumit Khan\", \"CSE\")\n",
    "t3 = Teacher(\"Sadia Kazi\", \"CSE\")\n",
    "c1 = Course(\"CSE 110 Programming Language I\")\n",
    "c2 = Course(\"CSE 111 Programming Language-II\")\n",
    "c3 = Course(\"CSE 220 Data Structures\")\n",
    "c4 = Course(\"CSE 221 Algorithms\")\n",
    "c5 = Course(\"CCSE 230 Discrete Mathematics\")\n",
    "c6 = Course(\"CSE 310 Object Oriented Programming\")\n",
    "c7 = Course(\"CSE 320 Data Communications\")\n",
    "c8 = Course(\"CSE 340 Computer Architecture\")\n",
    "t1.addCourse(c1)\n",
    "t1.addCourse(c2)\n",
    "t2.addCourse(c3)\n",
    "t2.addCourse(c4)\n",
    "t2.addCourse(c5)\n",
    "t3.addCourse(c6)\n",
    "t3.addCourse(c7)\n",
    "t3.addCourse(c8)\n",
    "t1.printDetail()\n",
    "t2.printDetail()\n",
    "t3.printDetail()"
   ]
  },
  {
   "cell_type": "code",
   "execution_count": 14,
   "metadata": {},
   "outputs": [
    {
     "name": "stdout",
     "output_type": "stream",
     "text": [
      "1\n",
      "2\n",
      "3\n",
      "4\n",
      "-2 -2\n",
      "None\n",
      "3 8\n",
      "None\n",
      "The calculated coordinates are NOT the same.\n",
      "None\n"
     ]
    }
   ],
   "source": [
    "class Coordinates:\n",
    "    def __init__(self,a,b):\n",
    "        self.a=a\n",
    "        self.b=b\n",
    "    def __mul__(self,other):\n",
    "        a=self.a*other.a\n",
    "        b=self.b*other.b\n",
    "        o= Coordinates(a,b)\n",
    "        return o\n",
    "    def detail(self):\n",
    "        print(self.a,self.b)\n",
    "    def __sub__(self,other):\n",
    "        a=self.a-other.a\n",
    "        b=self.b-other.b\n",
    "        o= Coordinates(a,b)\n",
    "        return o\n",
    "    def __eq__(self,other):\n",
    "        if self.a==other.a and self.b==other.b:\n",
    "            print(\"The calculated coordinates are same.\")\n",
    "        else:\n",
    "            print(\"The calculated coordinates are NOT the same.\")\n",
    "            \n",
    "\n",
    "\n",
    "p1 = Coordinates(int(input()),int(input()))\n",
    "p2 = Coordinates(int(input()),int(input()))\n",
    "p4 = p1 - p2\n",
    "print(p4.detail())\n",
    "p5 = p1 * p2\n",
    "print(p5.detail())\n",
    "point_check = (p4 == p5)\n",
    "print(point_check)"
   ]
  },
  {
   "cell_type": "code",
   "execution_count": 17,
   "metadata": {},
   "outputs": [
    {
     "name": "stdout",
     "output_type": "stream",
     "text": [
      "Name: John Wick\n",
      "Success rate: 100\n",
      "Total number of Assassin: 1\n",
      "================================\n",
      "Name: Nagisa\n",
      "Success rate: 80\n",
      "Total number of Assassin: 2\n",
      "================================\n",
      "Name: Akabane\n",
      "Success rate: 90\n",
      "Total number of Assassin: 3\n"
     ]
    }
   ],
   "source": [
    "#task-2 \n",
    "\n",
    "class Assassin:\n",
    "    id=0\n",
    "    def __init__(self,n,a):\n",
    "        self.n=n\n",
    "        self.r=a\n",
    "        Assassin.id+=1\n",
    "    def printDetails(self):\n",
    "        print(\"Name:\",self.n)\n",
    "        print(\"Success rate:\",self.r)\n",
    "        print(\"Total number of Assassin:\",Assassin.id)\n",
    "    @classmethod\n",
    "    def failureRate(cls,n,r):\n",
    "        n=n\n",
    "        r=100-r\n",
    "        obj=cls(n,r)\n",
    "        return obj\n",
    "\n",
    "    @classmethod\n",
    "    def failurePercentage(cls,n,r):\n",
    "        n=n\n",
    "        r=100-r\n",
    "        obj=cls(n,r)\n",
    "        return obj\n",
    "\n",
    "\n",
    "john_wick = Assassin('John Wick', 100)\n",
    "john_wick.printDetails()\n",
    "print('================================')\n",
    "nagisa = Assassin.failureRate(\"Nagisa\", 20)\n",
    "nagisa.printDetails()\n",
    "print('================================')\n",
    "akabane = Assassin.failurePercentage('Akabane', 10)\n",
    "akabane.printDetails()"
   ]
  },
  {
   "cell_type": "code",
   "execution_count": null,
   "metadata": {},
   "outputs": [],
   "source": [
    "Output:\n",
    "Name: John Wick\n",
    "Success rate: 100%\n",
    "Total number of Assassin: 1\n",
    "============================\n",
    "Name: Nagisa\n",
    "Success rate: 80%\n",
    "Total number of Assassin: 2\n",
    "============================\n",
    "Name: Akabane\n",
    "Success rate: 90%\n",
    "Total number of Assassin: 3"
   ]
  }
 ],
 "metadata": {
  "kernelspec": {
   "display_name": "Python 3 (ipykernel)",
   "language": "python",
   "name": "python3"
  },
  "language_info": {
   "codemirror_mode": {
    "name": "ipython",
    "version": 3
   },
   "file_extension": ".py",
   "mimetype": "text/x-python",
   "name": "python",
   "nbconvert_exporter": "python",
   "pygments_lexer": "ipython3",
   "version": "3.10.9"
  }
 },
 "nbformat": 4,
 "nbformat_minor": 4
}
