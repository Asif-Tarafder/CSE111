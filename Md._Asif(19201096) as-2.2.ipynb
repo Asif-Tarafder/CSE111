{
 "cells": [
  {
   "cell_type": "code",
   "execution_count": 33,
   "metadata": {},
   "outputs": [
    {
     "name": "stdout",
     "output_type": "stream",
     "text": [
      "banana\n",
      "bnn3\n"
     ]
    }
   ],
   "source": [
    "#Easy 1\n",
    "s=input()\n",
    "r=\"aeiouAEIOU\"\n",
    "count=0\n",
    "c=0\n",
    "while c<len(s):\n",
    "    if s[c] not in r:\n",
    "        print(s[c],end=\"\")\n",
    "    if s[c]  in r:\n",
    "        count=count+1\n",
    "    c=c+1\n",
    "print(count)"
   ]
  },
  {
   "cell_type": "code",
   "execution_count": 34,
   "metadata": {},
   "outputs": [
    {
     "name": "stdout",
     "output_type": "stream",
     "text": [
      "abbaaa\n",
      "False\n"
     ]
    }
   ],
   "source": [
    "#Easy2\n",
    "s=input()\n",
    "c=-1\n",
    "a=''\n",
    "for i in s:\n",
    "    a=a+s[c]\n",
    "    c=c-1\n",
    "if a!=s:\n",
    "    print(\"False\")\n",
    "else:\n",
    "    print(\"True\")"
   ]
  },
  {
   "cell_type": "code",
   "execution_count": 25,
   "metadata": {},
   "outputs": [
    {
     "name": "stdout",
     "output_type": "stream",
     "text": [
      "tactful\n",
      "tactfully\n"
     ]
    }
   ],
   "source": [
    "#easy3\n",
    "s=input()\n",
    "l=len(s)\n",
    "c=s.endswith(\"ful\")\n",
    "if l<4:\n",
    "    print(s)\n",
    "elif c :\n",
    "    print(s+\"ly\")\n",
    "else:\n",
    "    print(s+\"ful\")"
   ]
  },
  {
   "cell_type": "code",
   "execution_count": 23,
   "metadata": {},
   "outputs": [
    {
     "name": "stdout",
     "output_type": "stream",
     "text": [
      "BaNaNa\n",
      "banana\n"
     ]
    }
   ],
   "source": [
    "#Medium1\n",
    "s=input()\n",
    "smal=\"abcdefghijklmnopqrstuvwxyz\"\n",
    "c=0\n",
    "lc=0\n",
    "uc=0\n",
    "while c<len(s):\n",
    "    if s[c] in smal:\n",
    "        lc= lc+1\n",
    "    else:\n",
    "        uc=uc+1\n",
    "    c=c+1\n",
    "if lc>=uc:\n",
    "    print(s.lower())\n",
    "else:\n",
    "    print(s.upper())"
   ]
  },
  {
   "cell_type": "code",
   "execution_count": 20,
   "metadata": {},
   "outputs": [
    {
     "name": "stdout",
     "output_type": "stream",
     "text": [
      "Hello\n",
      "WORD\n"
     ]
    }
   ],
   "source": [
    "#Medium2\n",
    "s=input()\n",
    "number=\"0123456789\"\n",
    "letter=\"abcdefghijklmnopqrstuvwxyzABCDEFGHIJKLMNOPQRSTUVWXYZ\"\n",
    "c=0\n",
    "nc=0\n",
    "wc=0\n",
    "while c<len(s):\n",
    "    if s[c] in number:\n",
    "        nc=1\n",
    "    if s[c] in letter:\n",
    "        wc=1\n",
    "    c=c+1\n",
    "if nc==1 and wc==0:\n",
    "    print('NUMBER')\n",
    "elif nc==0 and wc==1:\n",
    "    print('WORD')\n",
    "else:\n",
    "    print('MIXED')\n"
   ]
  },
  {
   "cell_type": "code",
   "execution_count": 17,
   "metadata": {},
   "outputs": [
    {
     "name": "stdout",
     "output_type": "stream",
     "text": [
      "enput: baNgladEsh\n",
      "glad\n"
     ]
    }
   ],
   "source": [
    "#Medium3\n",
    "x=input(\"enput: \")\n",
    "def asif(s,c):\n",
    "    r='ABCDEFGHIJKLMNOPQRSTUVWXYZ'\n",
    "    n=0\n",
    "    while c<len(s):\n",
    "        if s[c] in r:\n",
    "            n=c\n",
    "            break\n",
    "        c=c+1\n",
    "    return n\n",
    "a=asif(x,0)\n",
    "b=asif(x,a+1)\n",
    "if (a+1)==b :\n",
    "    print('BLANK')\n",
    "    \n",
    "else:\n",
    "    print(x[a+1:b])"
   ]
  },
  {
   "cell_type": "code",
   "execution_count": 35,
   "metadata": {},
   "outputs": [
    {
     "name": "stdout",
     "output_type": "stream",
     "text": [
      "This book is too good!\n",
      "This book is excellent!\n"
     ]
    }
   ],
   "source": [
    "#Medium4\n",
    "s=input()\n",
    "if (\"too\" in s) and (\"good\" in s):\n",
    "    if \"too good\" in s:\n",
    "        c=s.find('too')\n",
    "        s=s.replace('too good','excellent')\n",
    "        print(s)\n",
    "    else:\n",
    "        print(s)\n",
    "else:\n",
    "    print(s)"
   ]
  },
  {
   "cell_type": "code",
   "execution_count": 2,
   "metadata": {},
   "outputs": [
    {
     "name": "stdout",
     "output_type": "stream",
     "text": [
      "enter: harry, hermione\n",
      "hrrhr"
     ]
    }
   ],
   "source": [
    "#Hard1\n",
    "s=input(\"enter: \")\n",
    "l=s.find(',')\n",
    "s1=(s[:l])\n",
    "s2=(s[l+1:]).lstrip()\n",
    "def asif(x,y):\n",
    "    c1=0\n",
    "    c=0\n",
    "    while c<len(x):\n",
    "        if x[c] in y:\n",
    "            print(x[c],end='')\n",
    "            c1=1\n",
    "        c=c+1\n",
    "    if c1==0:\n",
    "        return c1     \n",
    "a=asif(s1,s2)\n",
    "if a==0:\n",
    "    print('Nothing in common.')\n",
    "else:\n",
    "    asif(s2,s1)"
   ]
  },
  {
   "cell_type": "code",
   "execution_count": 39,
   "metadata": {},
   "outputs": [
    {
     "name": "stdout",
     "output_type": "stream",
     "text": [
      "fixprefixsuffix\n",
      "fix\n"
     ]
    }
   ],
   "source": [
    "#Hard2\n",
    "s=input()\n",
    "a=1\n",
    "b=-1\n",
    "r=0\n",
    "while a<(len(s)//2):\n",
    "    if s[0:a]==s[b:len(s)]:\n",
    "        if s[0:a] in s[a+1:b]:\n",
    "            print(s[0:a])\n",
    "            r=1\n",
    "        else:\n",
    "            print(\"Not Palindrome Substring\")\n",
    "            r=1\n",
    "    if r==1:\n",
    "        break\n",
    "    a=a+1\n",
    "    b=b-1\n",
    "if r==0:\n",
    "    print(\"Not Palindrome Substring\")\n",
    "    "
   ]
  },
  {
   "cell_type": "code",
   "execution_count": 42,
   "metadata": {},
   "outputs": [
    {
     "name": "stdout",
     "output_type": "stream",
     "text": [
      "enter : OhMyBR@CU20\n",
      "OK\n"
     ]
    }
   ],
   "source": [
    "#Hard3\n",
    "s=input(\"enter : \")\n",
    "num=['ABCDEFGHIJKLMNOPQRSTUVWXYZ',\"abcdefghijklmnopqrstuvwxyz\",'0123456789',\"@#$%&*!+\"]\n",
    "\n",
    "def asif(s,x,nc):\n",
    "    n=[\"Uppercase character missing\",\"lowercase character missing\" ,'Digit missing',\"Special character missing\"]\n",
    "    c=0\n",
    "    c1=0\n",
    "    while c<len(s):\n",
    "        if s[c] in x :\n",
    "            c1=1\n",
    "        c=c+1   \n",
    "    if c1==0:\n",
    "        return(n[nc]+\", \")\n",
    "    else:\n",
    "        return(\"\")\n",
    "a=asif(s,num[0],0)\n",
    "b=asif(s,num[1],1)\n",
    "c=asif(s,num[2],2)\n",
    "d=asif(s,num[3],3)\n",
    "r=a+b+c+d\n",
    "if r==\"\":\n",
    "    print('OK')\n",
    "else:\n",
    "    l=len(r)\n",
    "    print(r[0:l-2])\n"
   ]
  },
  {
   "cell_type": "code",
   "execution_count": null,
   "metadata": {},
   "outputs": [],
   "source": []
  }
 ],
 "metadata": {
  "kernelspec": {
   "display_name": "Python 3 (ipykernel)",
   "language": "python",
   "name": "python3"
  },
  "language_info": {
   "codemirror_mode": {
    "name": "ipython",
    "version": 3
   },
   "file_extension": ".py",
   "mimetype": "text/x-python",
   "name": "python",
   "nbconvert_exporter": "python",
   "pygments_lexer": "ipython3",
   "version": "3.9.12"
  }
 },
 "nbformat": 4,
 "nbformat_minor": 4
}
