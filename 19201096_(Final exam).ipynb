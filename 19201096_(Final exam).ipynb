{
 "cells": [
  {
   "cell_type": "code",
   "execution_count": 13,
   "metadata": {},
   "outputs": [
    {
     "name": "stdout",
     "output_type": "stream",
     "text": [
      "10\n",
      "bob\n",
      "the\n",
      "the\n",
      "builder\n",
      "The\n",
      "{'bob': 1.0, 'the': 2.0, 'builder': 5.0, 'The': 10.0}\n"
     ]
    }
   ],
   "source": [
    "#Question -1\n",
    "n=int(input())\n",
    "d={}\n",
    "i=n\n",
    "while i>0:\n",
    "    if n%i==0:\n",
    "        c=n/i\n",
    "        s=input()\n",
    "        while s in d:\n",
    "            s=input()\n",
    "        d[s]=c\n",
    "    i=i-1\n",
    "print(d)      \n",
    "    "
   ]
  },
  {
   "cell_type": "code",
   "execution_count": 1,
   "metadata": {},
   "outputs": [
    {
     "name": "stdout",
     "output_type": "stream",
     "text": [
      "\n",
      "------------Basic Info:--------------\n",
      "Name: Default, HP: 0, Weakness: None\n",
      "Main type: Unknown\n",
      "Basic move: Quick Attack\n",
      "\n",
      "------------Pokemon 1 Info:-------------\n",
      "Name: Charmander, HP: 39, Weakness: Water\n",
      "Main type: Fire\n",
      "Basic move: Quick Attack\n",
      "\n",
      "------------Pokemon 2 Info:-------------\n",
      "Name: Charizard, HP: 78, Weakness: Water\n",
      "Main type: Fire, Secondary type: Flying\n",
      "Basic move: Quick Attack\n",
      "Other move: Fire Spin, Fire Blaze\n"
     ]
    }
   ],
   "source": []
  },
  {
   "cell_type": "code",
   "execution_count": 14,
   "metadata": {},
   "outputs": [
    {
     "name": "stdout",
     "output_type": "stream",
     "text": [
      "No of Geometry chapters: 0\n",
      "No of Geometry chapters: 3\n",
      "****************\n",
      "The Area is: 78.54\n",
      "****************\n",
      "The Area is: 9.0\n",
      "****************\n",
      "The Area is: 16\n"
     ]
    }
   ],
   "source": [
    "#Question-2\n",
    "class Geometry:\n",
    "    count=0\n",
    "    def __init__(self):\n",
    "        Geometry.count+=1\n",
    "        self.area=0\n",
    "        \n",
    "    def circleArea(self,radius):\n",
    "        self.area=3.1416*radius*radius\n",
    "        \n",
    "    def triangleArea(self,base,hight) :\n",
    "        self.area=0.5*base*hight\n",
    "        \n",
    "    def squareArea(self,length):\n",
    "        self.area=length*length\n",
    "        \n",
    "    def printingDeatils(self):\n",
    "        print(\"The Area is:\",self.area)\n",
    "\n",
    "print('No of Geometry chapters:', Geometry.count)\n",
    "circle = Geometry()\n",
    "triangle = Geometry()\n",
    "square = Geometry()\n",
    "print('No of Geometry chapters:', Geometry.count)\n",
    "circle.circleArea(5)\n",
    "print(\"****************\")\n",
    "circle.printingDeatils()\n",
    "triangle.triangleArea(3, 6)\n",
    "print(\"****************\")\n",
    "triangle.printingDeatils()\n",
    "square.squareArea(4)\n",
    "print(\"****************\")\n",
    "square.printingDeatils()"
   ]
  },
  {
   "cell_type": "code",
   "execution_count": 15,
   "metadata": {},
   "outputs": [
    {
     "name": "stdout",
     "output_type": "stream",
     "text": [
      "***************\n",
      "Dog has 4 legs.\n",
      "Dog is a warm-blooded animal.\n",
      "***************\n",
      "Human has 2 legs.\n",
      "Human is a warm-blooded animal.\n"
     ]
    }
   ],
   "source": [
    "#Question-3\n",
    "\n",
    "class Mammal(object):\n",
    "    def __init__(self, mammalName,leg_no):\n",
    "        self.name = mammalName\n",
    "        self.leg_no = leg_no\n",
    "    def print(self):\n",
    "        print(self.name, 'has',self.leg_no, 'legs.')\n",
    "        print(self.name, 'is a warm-blooded animal.') \n",
    "#######################################################\n",
    "\n",
    "class Dog(Mammal):\n",
    "    def __init__(self,name=\"Dog\",legs=4):\n",
    "        super().__init__(name,legs)\n",
    "class Human(Mammal):\n",
    "    def __init__(self,name=\"Human\",legs=2):\n",
    "        super().__init__(name,legs)\n",
    "\n",
    "####################################################   \n",
    "d1 = Dog()\n",
    "print(\"***************\")\n",
    "d1.print()\n",
    "h1 = Human()\n",
    "print(\"***************\")\n",
    "h1.print()\n",
    " "
   ]
  },
  {
   "cell_type": "code",
   "execution_count": null,
   "metadata": {},
   "outputs": [],
   "source": []
  }
 ],
 "metadata": {
  "kernelspec": {
   "display_name": "Python 3",
   "language": "python",
   "name": "python3"
  },
  "language_info": {
   "codemirror_mode": {
    "name": "ipython",
    "version": 3
   },
   "file_extension": ".py",
   "mimetype": "text/x-python",
   "name": "python",
   "nbconvert_exporter": "python",
   "pygments_lexer": "ipython3",
   "version": "3.8.5"
  }
 },
 "nbformat": 4,
 "nbformat_minor": 4
}
