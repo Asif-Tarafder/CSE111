{
 "cells": [
  {
   "cell_type": "code",
   "execution_count": 2,
   "metadata": {},
   "outputs": [
    {
     "name": "stdout",
     "output_type": "stream",
     "text": [
      "Let’s Calculate!\n",
      "10\n",
      "*\n",
      "6\n",
      "10\n",
      "*\n",
      "6\n",
      "Reasult: 60\n"
     ]
    }
   ],
   "source": [
    "#Question 1\n",
    "class Calculator:\n",
    "    def __init__ (self):\n",
    "        print(\"Let’s Calculate!\")\n",
    "        self.first_value=None\n",
    "        self.operator=None\n",
    "        self.second_value=None\n",
    "    def add(self):\n",
    "        ans=self.first_value+self.second_value\n",
    "        print(self.first_value)\n",
    "        print(self.operator)\n",
    "        print(self.second_value)\n",
    "        return ans\n",
    "    def  subtract(self):\n",
    "        print(self.first_value)\n",
    "        print(self.operator)\n",
    "        print(self.second_value)\n",
    "        ans=self.first_value-self.second_value\n",
    "        return ans\n",
    "    def multiply(self):\n",
    "        print(self.first_value)\n",
    "        print(self.operator)\n",
    "        print(self.second_value)\n",
    "        ans = self.first_value*self.second_value\n",
    "        return ans            \n",
    "    def divide(self):\n",
    "        print(self.first_value)\n",
    "        print(self.operator)\n",
    "        print(self.second_value)\n",
    "        ans=self.first_value/self.second_value\n",
    "        return ans    \n",
    "        \n",
    "obj=Calculator()\n",
    "obj.first_value=int(input())\n",
    "obj.operator=input()\n",
    "obj.second_value=int(input())\n",
    "if obj.operator==\"+\":\n",
    "    print(\"Reasult:\",obj.add())\n",
    "elif obj.operator==\"-\":\n",
    "    print(\"Reasult:\",obj.subtract())\n",
    "elif obj.operator==\"*\":\n",
    "    print(\"Reasult:\",obj.multiply())\n",
    "elif obj.operator==\"/\":\n",
    "    print(\"Reasult:\",obj.divide())"
   ]
  },
  {
   "cell_type": "code",
   "execution_count": 3,
   "metadata": {},
   "outputs": [
    {
     "name": "stdout",
     "output_type": "stream",
     "text": [
      "Hello!\n",
      "Sam, you purchased 3 items\n",
      "chips\n",
      "chocolate\n",
      "orange juice\n",
      "-----------------------------\n",
      "Hello! David\n",
      "David, you purchased 1 items\n",
      "orange juice\n"
     ]
    }
   ],
   "source": [
    "#Question 2  \n",
    "class Customer:\n",
    "    def __init__(self,nam):\n",
    "        self.name=nam\n",
    "    def greet(self,nm=None):\n",
    "        if nm!=None:\n",
    "            print(\"Hello!\",nm) \n",
    "        else:\n",
    "            print(\"Hello!\")\n",
    "    def purchase(self, *args):\n",
    "        print(self.name+\",\",\"you purchased\",len(args),\"items\")\n",
    "        for i in args:\n",
    "            print(i)\n",
    "            \n",
    "            \n",
    "customer_1 = Customer(\"Sam\")\n",
    "customer_1.greet()\n",
    "customer_1.purchase(\"chips\", \"chocolate\", \"orange juice\")\n",
    "print(\"-----------------------------\")\n",
    "customer_2 = Customer(\"David\")\n",
    "customer_2.greet(\"David\")\n",
    "customer_2.purchase(\"orange juice\")"
   ]
  },
  {
   "cell_type": "code",
   "execution_count": 8,
   "metadata": {},
   "outputs": [
    {
     "name": "stdout",
     "output_type": "stream",
     "text": [
      "Kunfu is a Male Panda Bear who is 5 years old\n",
      "Pan Pan is a Female Panda Bear who is 3 years old\n",
      "Ming Ming is a Female Panda Bear who is 8 years old\n",
      "Pan Pan sleeps 10 hours daily and should have Broccoli Chicken\n",
      "Kunfu sleeps 4 hours daily and should have Mixed Veggies\n",
      "Ming Ming's duration is unknown thus should have only bamboo leaves\n"
     ]
    }
   ],
   "source": [
    "#Question 3\n",
    "\n",
    "class Panda:\n",
    "    def __init__(self,nm,gn,ag):\n",
    "        self.name=nm\n",
    "        self.gender=gn\n",
    "        self.age=ag\n",
    "    def sleep(self,hr=None):\n",
    "        if hr!=None and hr>=3 and hr<=5:\n",
    "            return f\"{self.name} sleeps {hr} hours daily and should have Mixed Veggies\"\n",
    "        elif hr!=None and hr>=6 and hr<=8:\n",
    "            return f\"{self.name} sleeps {hr} hours daily and should have Eggplant & Tofu\"\n",
    "        elif hr!=None and hr>=9 and hr<=11:\n",
    "            return f\"{self.name} sleeps {hr} hours daily and should have Broccoli Chicken\"\n",
    "        elif hr==None:\n",
    "            return f\"{self.name}'s duration is unknown thus should have only bamboo leaves\"\n",
    "                \n",
    "\n",
    "panda1 = Panda(\"Kunfu\",\"Male\", 5)\n",
    "panda2=Panda(\"Pan Pan\",\"Female\",3)\n",
    "panda3=Panda(\"Ming Ming\",\"Female\",8)\n",
    "print(\"{} is a {} Panda Bear who is {} years old\".format(panda1.name,panda1.gender,panda1.age))\n",
    "print(\"{} is a {} Panda Bear who is {} years old\".format(panda2.name,panda2.gender,panda2.age))\n",
    "print(\"{} is a {} Panda Bear who is {} years old\".format(panda3.name,panda3.gender,panda3.age))\n",
    "print(panda2.sleep(10))\n",
    "print(panda1.sleep(4))\n",
    "print(panda3.sleep())\n"
   ]
  },
  {
   "cell_type": "code",
   "execution_count": 1,
   "metadata": {},
   "outputs": [
    {
     "name": "stdout",
     "output_type": "stream",
     "text": [
      "White cat is sitting\n",
      "Black cat is sitting\n",
      "Brown cat is jumping\n",
      "Red cat is purring\n",
      "Blue cat is sitting\n",
      "Purple cat is jumping\n"
     ]
    }
   ],
   "source": [
    "#Question4\n",
    "class  Cat:\n",
    "    def __init__(self,*arges):\n",
    "        if len(arges)==0:\n",
    "            self.color=\"White\"\n",
    "            self.behave=\"sitting\"\n",
    "        elif len(arges)==1:\n",
    "            self.color=arges[0]\n",
    "            self.behave=\"sitting\"\n",
    "        else:\n",
    "            self.color=arges[0]\n",
    "            self.behave=arges[1]\n",
    "    def changeColor(self,newColor):\n",
    "        self.color=newColor\n",
    "    def printCat(self):\n",
    "        print(self.color,\"cat is\",self.behave)\n",
    "\n",
    "c1 = Cat()\n",
    "c2 = Cat(\"Black\")\n",
    "c3 = Cat(\"Brown\", \"jumping\")\n",
    "c4 = Cat(\"Red\", \"purring\")\n",
    "c1.printCat()\n",
    "c2.printCat()\n",
    "c3.printCat()\n",
    "c4.printCat()\n",
    "c1.changeColor(\"Blue\")\n",
    "c3.changeColor(\"Purple\")\n",
    "c1.printCat()\n",
    "c3.printCat()"
   ]
  },
  {
   "cell_type": "code",
   "execution_count": 6,
   "metadata": {},
   "outputs": [
    {
     "name": "stdout",
     "output_type": "stream",
     "text": [
      "(0, 0)\n",
      "(0, 1)\n",
      "(-1, 1)\n",
      "(-1, 0)\n"
     ]
    }
   ],
   "source": [
    "#Question 5\n",
    "class Vehicle:\n",
    "    def __init__(self):\n",
    "        self.x=0\n",
    "        self.y=0\n",
    "    def moveUp(self):\n",
    "        self.y=self.y+1\n",
    "    def moveDown(self):\n",
    "        self.y=self.y-1\n",
    "    def moveRight(self):\n",
    "        self.x=self.x+1\n",
    "    def moveLeft(self):\n",
    "        self.x=self.x-1\n",
    "    def print_position(self):\n",
    "        t=(self.x,self.y)\n",
    "        print(t)\n",
    "\n",
    "\n",
    "car = Vehicle()\n",
    "car.print_position()\n",
    "car.moveUp()\n",
    "car.print_position()\n",
    "car.moveLeft()\n",
    "car.print_position()\n",
    "car.moveDown()\n",
    "car.print_position()\n",
    "car.moveRight()\n"
   ]
  },
  {
   "cell_type": "code",
   "execution_count": 3,
   "metadata": {},
   "outputs": [
    {
     "name": "stdout",
     "output_type": "stream",
     "text": [
      "-------------------------------\n",
      "Dear Walker ! Welcome to TaxiLagbe.\n",
      "Dear Wood ! Welcome to TaxiLagbe.\n",
      "Dear Matt ! Welcome to TaxiLagbe.\n",
      "Dear Wilson ! Welcome to TaxiLagbe.\n",
      "-------------------------------\n",
      "Trip info for Taxi number 1010-01\n",
      "This taxi can cover only Dhaka area.\n",
      "Total passengers: 4\n",
      "Passenger lists:\n",
      "Walker,Wood,Matt,Wilson\n",
      "Total collected fare: 505 Taka\n",
      "-------------------------------\n",
      "Taxi Full! No more passengers can be added.\n",
      "-------------------------------\n",
      "Trip info for Taxi number 1010-01\n",
      "This taxi can cover only Dhaka area.\n",
      "Total passengers: 4\n",
      "Passenger lists:\n",
      "Walker,Wood,Matt,Wilson\n",
      "Total collected fare: 505 Taka\n",
      "-------------------------------\n",
      "Dear Ronald ! Welcome to TaxiLagbe.\n",
      "Dear Parker ! Welcome to TaxiLagbe.\n",
      "-------------------------------\n",
      "Trip info for Taxi number 1010-02\n",
      "This taxi can cover only Khulna area.\n",
      "Total passengers: 2\n",
      "Passenger lists:\n",
      "Ronald,Parker\n",
      "Total collected fare: 330 Taka\n"
     ]
    }
   ],
   "source": [
    "class TaxiLagbe:\n",
    "    def __init__(self,n,p):\n",
    "        self.num=n\n",
    "        self.place=p\n",
    "        self.passenger=[]\n",
    "        self.fare=0\n",
    "    def addPassenger(self,*args):\n",
    "        for i in args:\n",
    "            if len(self.passenger)<4:\n",
    "                i=i.split(\"_\")\n",
    "                self.passenger.append(i[0])\n",
    "                self.fare+=int(i[1])\n",
    "                print(\"Dear\",i[0],\"! Welcome to TaxiLagbe.\")\n",
    "            else:\n",
    "                print(\"Taxi Full! No more passengers can be added.\")\n",
    "    def printDetails(self):\n",
    "        print(\"Trip info for Taxi number\",self.num)\n",
    "        print(\"This taxi can cover only\",self.place,\"area.\")\n",
    "        print(\"Total passengers:\",len(self.passenger))\n",
    "        print(\"Passenger lists:\")\n",
    "        st=\"\"\n",
    "        for i in self.passenger:\n",
    "            st=st+i+\",\"\n",
    "        print(st[0:-1])\n",
    "        print(\"Total collected fare:\",self.fare,\"Taka\")\n",
    "taxi1 = TaxiLagbe('1010-01', 'Dhaka')\n",
    "print('-------------------------------')\n",
    "taxi1.addPassenger('Walker_100', 'Wood_200')\n",
    "taxi1.addPassenger('Matt_100')\n",
    "taxi1.addPassenger('Wilson_105')\n",
    "print('-------------------------------')\n",
    "taxi1.printDetails()\n",
    "print('-------------------------------')\n",
    "taxi1.addPassenger('Karen_200')\n",
    "print('-------------------------------')\n",
    "taxi1.printDetails()\n",
    "print('-------------------------------')\n",
    "taxi2 = TaxiLagbe('1010-02', 'Khulna')\n",
    "taxi2.addPassenger('Ronald_115')\n",
    "taxi2.addPassenger('Parker_215')\n",
    "print('-------------------------------')\n",
    "taxi2.printDetails()\n",
    "\n",
    "\n"
   ]
  },
  {
   "cell_type": "code",
   "execution_count": null,
   "metadata": {},
   "outputs": [],
   "source": []
  }
 ],
 "metadata": {
  "kernelspec": {
   "display_name": "Python 3 (ipykernel)",
   "language": "python",
   "name": "python3"
  },
  "language_info": {
   "codemirror_mode": {
    "name": "ipython",
    "version": 3
   },
   "file_extension": ".py",
   "mimetype": "text/x-python",
   "name": "python",
   "nbconvert_exporter": "python",
   "pygments_lexer": "ipython3",
   "version": "3.10.9"
  }
 },
 "nbformat": 4,
 "nbformat_minor": 4
}
