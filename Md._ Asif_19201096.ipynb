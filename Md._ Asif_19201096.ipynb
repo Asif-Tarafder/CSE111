{
 "cells": [
  {
   "cell_type": "code",
   "execution_count": 2,
   "metadata": {},
   "outputs": [
    {
     "name": "stdout",
     "output_type": "stream",
     "text": [
      "3 5 6 9 10 12 15 18 20 21 24 25 27 30 Total number=  14\n"
     ]
    }
   ],
   "source": [
    " #Easy1\n",
    "i=1\n",
    "c=0\n",
    "while i<=30:\n",
    "    if i%3==0 or i%5==0 :\n",
    "        print(i,end=\" \")\n",
    "        c=c+1\n",
    "    i=i+1\n",
    "print(\"Total number= \",c)    "
   ]
  },
  {
   "cell_type": "code",
   "execution_count": 3,
   "metadata": {},
   "outputs": [
    {
     "name": "stdout",
     "output_type": "stream",
     "text": [
      "enter a number92\n",
      "enter a number79\n",
      "enter a number65\n",
      "92\n"
     ]
    }
   ],
   "source": [
    " #Easy2\n",
    "a=int(input(\"enter a number\"))\n",
    "m=a #m=max\n",
    "i=1\n",
    "while i<3:\n",
    "    b=int(input(\"enter a number\"))\n",
    "    if m<b:\n",
    "        m=b\n",
    "    i=i+1 \n",
    "print(m)"
   ]
  },
  {
   "cell_type": "code",
   "execution_count": 7,
   "metadata": {},
   "outputs": [
    {
     "name": "stdout",
     "output_type": "stream",
     "text": [
      "enter a number86\n",
      "A-\n"
     ]
    }
   ],
   "source": [
    " #Easy3\n",
    "marks=int(input(\"enter a number\"))\n",
    "if marks>=50 and marks<=51:\n",
    "    print(\"D-\")\n",
    "elif marks>=52 and marks<=54:\n",
    "    print(\"D\")\n",
    "elif marks>=55 and marks<=56:\n",
    "    print(\"D+\")\n",
    "elif marks>=57 and marks<=59:\n",
    "    print(\"C-\") \n",
    "elif marks>=60 and marks<=64:\n",
    "    print(\"C\")  \n",
    "elif marks>=65 and marks<=69:\n",
    "    print(\"C+\")    \n",
    "elif marks>=70 and marks<=74:\n",
    "    print(\"B-\")    \n",
    "elif marks>=75 and marks<=79:\n",
    "    print(\"B\") \n",
    "elif marks>=80 and marks<=84:\n",
    "    print(\"B+\")\n",
    "elif marks>=85 and marks<=89:\n",
    "    print(\"A-\")  \n",
    "else:\n",
    "    print(\"A\")"
   ]
  },
  {
   "cell_type": "code",
   "execution_count": 8,
   "metadata": {},
   "outputs": [
    {
     "name": "stdout",
     "output_type": "stream",
     "text": [
      "enter a number76\n",
      "Not Prime\n"
     ]
    }
   ],
   "source": [
    "#Easy4\n",
    "n=int(input(\"enter a number\"))\n",
    "count=0\n",
    "i=1 \n",
    "while i<=n:\n",
    "    if n%i==0:\n",
    "        count=count+1\n",
    "    i=i+1\n",
    "if(count==2):\n",
    "    print(\"Prime\")\n",
    "else:\n",
    "    print(\"Not Prime\")"
   ]
  },
  {
   "cell_type": "code",
   "execution_count": 1,
   "metadata": {},
   "outputs": [
    {
     "name": "stdout",
     "output_type": "stream",
     "text": [
      "enter a number10\n",
      "0 1 1 2 3 5 8 "
     ]
    }
   ],
   "source": [
    " #Medium1\n",
    "num=int(input(\"enter a number\"))\n",
    "n=0\n",
    "m=1\n",
    "print(n,m,end=\" \")\n",
    "s=n+m\n",
    "while s<=num:\n",
    "    print(s,end=\" \")\n",
    "    n=m\n",
    "    m=s\n",
    "    s=n+m"
   ]
  },
  {
   "cell_type": "code",
   "execution_count": 4,
   "metadata": {},
   "outputs": [
    {
     "name": "stdout",
     "output_type": "stream",
     "text": [
      "enter a number12345\n",
      "54321"
     ]
    }
   ],
   "source": [
    " #Medium2\n",
    "num=int(input(\"enter a number\"))\n",
    "n=num\n",
    "r=num%10\n",
    "while n>=1:\n",
    "    print(r,end=\"\")\n",
    "    n=n//10\n",
    "    r=n%10\n"
   ]
  },
  {
   "cell_type": "code",
   "execution_count": 4,
   "metadata": {},
   "outputs": [
    {
     "name": "stdout",
     "output_type": "stream",
     "text": [
      "enter a number6\n",
      "Perfect Number\n"
     ]
    }
   ],
   "source": [
    "#Medium3\n",
    "num=int(input(\"enter a number\"))\n",
    "n=num\n",
    "i=1\n",
    "s=0 #s=sum\n",
    "while i<n:\n",
    "    if num%i==0:\n",
    "        s=s+i\n",
    "    i=i+1\n",
    "if s==num:\n",
    "    print(\"Perfect Number\")\n",
    "else:\n",
    "    print(\"Not Perfect\")"
   ]
  },
  {
   "cell_type": "code",
   "execution_count": 3,
   "metadata": {},
   "outputs": [
    {
     "name": "stdout",
     "output_type": "stream",
     "text": [
      "Enter number122436\n",
      "5\n"
     ]
    }
   ],
   "source": [
    "#Hard1\n",
    "num=int(input(\"Enter number\"))\n",
    "r1=0 \n",
    "r2=0 \n",
    "r3=0 \n",
    "r4=0 \n",
    "r5=0 \n",
    "r6=0 \n",
    "r7=0 \n",
    "r8=0 \n",
    "r9=0 \n",
    "r0=0\n",
    "n=num\n",
    "while n>=1:\n",
    "    r=n%10\n",
    "    if r==0:\n",
    "        r0=1\n",
    "    elif r==1:\n",
    "        r1=1    \n",
    "    elif r==2:\n",
    "        r2=1\n",
    "    elif r==3:\n",
    "        r3=1\n",
    "    elif r==4:\n",
    "        r4=1\n",
    "    elif r==5:\n",
    "        r5=1\n",
    "    elif r==6:\n",
    "        r6=1\n",
    "    elif r==7:\n",
    "        r7=1\n",
    "    elif r==8:\n",
    "        r8=1\n",
    "    elif r==9:\n",
    "        r9=1\n",
    "    n=n//10\n",
    "print(r1+r2+r3+r4+r5+r6+r7+r8+r9+r0)    "
   ]
  },
  {
   "cell_type": "code",
   "execution_count": 33,
   "metadata": {},
   "outputs": [
    {
     "name": "stdout",
     "output_type": "stream",
     "text": [
      "enter number3\n",
      "  *\n",
      " * *\n",
      "*****\n",
      " * *\n",
      "  *\n"
     ]
    }
   ],
   "source": [
    "#Hard2\n",
    "num=int(input(\"enter number\"))\n",
    "row=1\n",
    "while row<=num:\n",
    "    space=num-row\n",
    "    while space>=1:\n",
    "        print(\" \",end=\"\")\n",
    "        space=space-1\n",
    "    col=1 \n",
    "    while col<=row*2-1:\n",
    "        if(col==1 or col==row*2-1 or row==1 or row==num):\n",
    "            print(\"*\",end=\"\")\n",
    "        else:\n",
    "            print(\" \",end=\"\")\n",
    "        col=col+1\n",
    "    row=row+1        \n",
    "    print()    \n",
    "r1=num-1\n",
    "while r1>=1:\n",
    "    space=r1\n",
    "    while space<num:\n",
    "         print(\" \",end=\"\")\n",
    "         space=space+1\n",
    "    col=1\n",
    "    while col<=r1*2-1:\n",
    "        if(col==1 or col==r1*2-1 or r1==1 ):\n",
    "            print(\"*\",end=\"\")\n",
    "        else:\n",
    "            print(\" \",end=\"\")\n",
    "        col=col+1\n",
    "    r1=r1-1        \n",
    "    print()   "
   ]
  },
  {
   "cell_type": "code",
   "execution_count": null,
   "metadata": {},
   "outputs": [],
   "source": []
  },
  {
   "cell_type": "code",
   "execution_count": 3,
   "metadata": {},
   "outputs": [
    {
     "name": "stdout",
     "output_type": "stream",
     "text": [
      "enter a numner27\n",
      "15\n"
     ]
    }
   ],
   "source": [
    "#Hard 3\n",
    "number= int(input(\"enter a numner\"))\n",
    "c=0\n",
    "n=number\n",
    "while  n>=1 :\n",
    "    r=n%2\n",
    "    if r==1:\n",
    "        c=c+1\n",
    "    n=n//2\n",
    "i=0\n",
    "n=0\n",
    "while i<c:\n",
    "    n=n+(2**i)\n",
    "    i=i+1\n",
    "print(n)"
   ]
  },
  {
   "cell_type": "code",
   "execution_count": 2,
   "metadata": {},
   "outputs": [
    {
     "name": "stdout",
     "output_type": "stream",
     "text": [
      "enter number10\n",
      "         *\n",
      "        * *\n",
      "       *   *\n",
      "      *     *\n",
      "     *       *\n",
      "    *         *\n",
      "   *           *\n",
      "  *             *\n",
      " *               *\n",
      "*                 *\n",
      " *               *\n",
      "  *             *\n",
      "   *           *\n",
      "    *         *\n",
      "     *       *\n",
      "      *     *\n",
      "       *   *\n",
      "        * *\n",
      "         *\n"
     ]
    }
   ],
   "source": [
    "#Hard2\n",
    "num=int(input(\"enter number\"))\n",
    "row=1\n",
    "while row<=num:\n",
    "    space=num-row\n",
    "    while space>=1:\n",
    "        print(\" \",end=\"\")\n",
    "        space=space-1\n",
    "    col=1 \n",
    "    while col<=row*2-1:\n",
    "        if(col==1 or col==row*2-1 or row==1 ):\n",
    "            print(\"*\",end=\"\")\n",
    "        else:\n",
    "            print(\" \",end=\"\")\n",
    "        col=col+1\n",
    "    row=row+1        \n",
    "    print()    \n",
    "r1=num-1\n",
    "while r1>=1:\n",
    "    space=r1\n",
    "    while space<num:\n",
    "         print(\" \",end=\"\")\n",
    "         space=space+1\n",
    "    col=1\n",
    "    while col<=r1*2-1:\n",
    "        if(col==1 or col==r1*2-1 or r1==1 ):\n",
    "            print(\"*\",end=\"\")\n",
    "        else:\n",
    "            print(\" \",end=\"\")\n",
    "        col=col+1\n",
    "    r1=r1-1        \n",
    "    print()   "
   ]
  },
  {
   "cell_type": "code",
   "execution_count": null,
   "metadata": {},
   "outputs": [],
   "source": []
  }
 ],
 "metadata": {
  "kernelspec": {
   "display_name": "Python 3 (ipykernel)",
   "language": "python",
   "name": "python3"
  },
  "language_info": {
   "codemirror_mode": {
    "name": "ipython",
    "version": 3
   },
   "file_extension": ".py",
   "mimetype": "text/x-python",
   "name": "python",
   "nbconvert_exporter": "python",
   "pygments_lexer": "ipython3",
   "version": "3.9.12"
  }
 },
 "nbformat": 4,
 "nbformat_minor": 4
}
