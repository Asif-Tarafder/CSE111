{
 "cells": [
  {
   "cell_type": "code",
   "execution_count": 1,
   "metadata": {},
   "outputs": [
    {
     "name": "stdout",
     "output_type": "stream",
     "text": [
      "5\n",
      "64\n",
      "7\n",
      "\n",
      "4\n",
      "2\n",
      "32\n",
      "1\n",
      "123\n",
      "24\n",
      "['24', '123', '1', '32', '2', '4', '', '7', '64', '5']\n"
     ]
    }
   ],
   "source": [
    "#easy1\n",
    "i=0\n",
    "asif=[]\n",
    "while i<10:\n",
    "    s=input()\n",
    "    asif.append(s)\n",
    "    i=i+1\n",
    "asif.reverse()\n",
    "print(asif)\n",
    "    "
   ]
  },
  {
   "cell_type": "code",
   "execution_count": 21,
   "metadata": {},
   "outputs": [
    {
     "name": "stdout",
     "output_type": "stream",
     "text": [
      "1\n",
      "2\n",
      "3\n",
      "4\n",
      "5\n",
      "6\n",
      "7\n",
      "8\n",
      "9\n",
      "0\n",
      "0,9,8,7,6,5,4,3,2,1\n"
     ]
    }
   ],
   "source": [
    "#easy1\n",
    "lst=[]\n",
    "for i in range(0,10):\n",
    "    s=input()\n",
    "    lst.append(s)\n",
    "for i in range(-1,-10,-1):\n",
    "    print(lst[i],end=\",\")\n",
    "print(lst[-10])"
   ]
  },
  {
   "cell_type": "code",
   "execution_count": 2,
   "metadata": {},
   "outputs": [
    {
     "name": "stdout",
     "output_type": "stream",
     "text": [
      "1\n",
      "2\n",
      "3\n",
      "4\n",
      "5\n",
      "6\n",
      "7\n",
      "8\n",
      "9\n",
      "0\n",
      "[0, 9, 8, 7, 6, 5, 4, 3, 2, 1]\n"
     ]
    }
   ],
   "source": [
    "#easy1\n",
    "i=0\n",
    "asif=[]\n",
    "while i<10:\n",
    "    s=int(input())\n",
    "    asif.append(s)\n",
    "    i=i+1\n",
    "    \n",
    "print(asif[i::-1])\n",
    "    "
   ]
  },
  {
   "cell_type": "code",
   "execution_count": 18,
   "metadata": {},
   "outputs": [
    {
     "name": "stdout",
     "output_type": "stream",
     "text": [
      "1\n",
      "2\n",
      "3\n",
      "4\n",
      "5\n",
      "[5, 4, 3, 2, 1]\n"
     ]
    }
   ],
   "source": [
    "#easy1\n",
    "i=0\n",
    "asif=[]\n",
    "asif1=[]\n",
    "while i<5:\n",
    "    s=int(input())\n",
    "    asif.append(s)\n",
    "    i=i+1\n",
    "for j in range(-1,-6,-1):  \n",
    "    asif1.append(asif[j])\n",
    "print(asif1)      \n",
    "    "
   ]
  },
  {
   "cell_type": "code",
   "execution_count": 6,
   "metadata": {},
   "outputs": [
    {
     "name": "stdout",
     "output_type": "stream",
     "text": [
      "1,2,3,4,4\n",
      "5,6,7,8\n",
      "[1, 2, 3, 4, 5, 6, 7, 8]\n"
     ]
    }
   ],
   "source": [
    "#easy2\n",
    "n=((input()).split(','))\n",
    "n1=((input()).split(','))\n",
    "n=(n[0:len(n)-1])+n1\n",
    "n=[int(i) for i in n]\n",
    "print(n)"
   ]
  },
  {
   "cell_type": "code",
   "execution_count": 27,
   "metadata": {},
   "outputs": [
    {
     "name": "stdout",
     "output_type": "stream",
     "text": [
      "sir number den: qw\n",
      " abar den: gh\n",
      " abar den: s\n",
      " abar den: s\n",
      " abar den: x\n",
      " abar den: \n",
      " abar den: s\n",
      " abar den: \n",
      " abar den: c\n",
      " abar den: f\n",
      " abar den: g\n",
      " abar den: g\n",
      " abar den: g\n",
      " abar den: hh\n",
      " abar den: j\n",
      "['qw', 'gh', 's', 'x', '', 'c', 'f', 'g', 'hh', 'j']\n"
     ]
    }
   ],
   "source": [
    "#easy3\n",
    "s=input(\"sir number den: \")\n",
    "s1=s.split()\n",
    "c=1\n",
    "while c<10:\n",
    "    s=input(\" abar den: \")\n",
    "    if s in s1:\n",
    "        c=c-1\n",
    "    else:\n",
    "        s1.append(s)\n",
    "    c=c+1\n",
    "print(s1)"
   ]
  },
  {
   "cell_type": "code",
   "execution_count": 15,
   "metadata": {},
   "outputs": [
    {
     "name": "stdout",
     "output_type": "stream",
     "text": [
      "enter a number: 1\n",
      "enter number: 23\n",
      "enter number: 4\n",
      "enter number: 3\n",
      "enter number: 5\n",
      "enter number: 4\n",
      "different number: 5\n",
      "different number: 6\n",
      "enter number: 7\n",
      "enter number: 8\n",
      "enter number: 9\n",
      "enter number: 0\n",
      "['1', '23', '4', '3', '5', '6', '7', '8', '9', '0']\n"
     ]
    }
   ],
   "source": [
    "#easy3 best\n",
    "s=input(\"enter a number: \")\n",
    "c=0\n",
    "s1=[]\n",
    "while c<10:\n",
    "    if s not in s1:\n",
    "        s1.append(s)\n",
    "        if c!=9:\n",
    "            s=input(\"enter number: \")\n",
    "    else:\n",
    "        c=c-1\n",
    "        s=input(\"different number: \")   \n",
    "    c=c+1\n",
    "print(s1)"
   ]
  },
  {
   "cell_type": "code",
   "execution_count": 5,
   "metadata": {},
   "outputs": [
    {
     "name": "stdout",
     "output_type": "stream",
     "text": [
      "10\n",
      "20\n",
      "20\n",
      "10\n",
      "30\n",
      "STOP\n",
      "10 - 2 times\n",
      "20 - 2 times\n",
      "30 - 1 times\n"
     ]
    }
   ],
   "source": [
    "#medium1\n",
    "i=0\n",
    "asif=[]\n",
    "while True:\n",
    "    s=input()\n",
    "    if s==\"STOP\":\n",
    "        break\n",
    "    else:\n",
    "        asif.append(s)\n",
    "    i=i+1\n",
    "c=0\n",
    "s=[]\n",
    "while c<len(asif):\n",
    "    if asif[c] not in s:\n",
    "        print(asif[c],\"-\",asif.count(asif[c]),\"times\")\n",
    "        s.append(asif[c])\n",
    "    c=c+1 "
   ]
  },
  {
   "cell_type": "code",
   "execution_count": 8,
   "metadata": {},
   "outputs": [
    {
     "name": "stdout",
     "output_type": "stream",
     "text": [
      "4\n",
      "1 2 3\n",
      "4 5 6\n",
      "10 11 12\n",
      "7 8 9\n",
      "33\n",
      "[10, 11, 12]\n"
     ]
    }
   ],
   "source": [
    "#medium2 \n",
    "n=int(input())\n",
    "c=0\n",
    "maxsum=0\n",
    "lst=[]\n",
    "while c<n:\n",
    "    s=(input()).split()\n",
    "    m=0\n",
    "    s1=[]\n",
    "    for i in s:\n",
    "        m=m+int(i)\n",
    "        s1.append(int(i))\n",
    "    if m>maxsum:\n",
    "        maxsum=m\n",
    "        lst=s1\n",
    "    c=c+1\n",
    "print(maxsum)\n",
    "print(lst)"
   ]
  },
  {
   "cell_type": "code",
   "execution_count": 6,
   "metadata": {},
   "outputs": [
    {
     "name": "stdout",
     "output_type": "stream",
     "text": [
      "4\n",
      "1 2 3\n",
      "4 5 6\n",
      "10 11 12\n",
      "7 8 9\n",
      "33\n",
      "['10', '11', '12']\n"
     ]
    }
   ],
   "source": [
    "#medium2 altanative\n",
    "n=int(input())\n",
    "c=0\n",
    "maxsum=0\n",
    "lst=[]\n",
    "while c<n:\n",
    "    s=(input()).split()\n",
    "    m=0\n",
    "    for i in s:\n",
    "        m=m+int(i)\n",
    "    if m>maxsum:\n",
    "        maxsum=m\n",
    "        lst=[int(i) for i in s]\n",
    "        \n",
    "    c=c+1\n",
    "print(maxsum)\n",
    "print(lst)"
   ]
  },
  {
   "cell_type": "code",
   "execution_count": 21,
   "metadata": {},
   "outputs": [
    {
     "name": "stdout",
     "output_type": "stream",
     "text": [
      "2 4 5\n",
      "3 4\n",
      "[6, 8, 12, 16, 15, 20]\n"
     ]
    }
   ],
   "source": [
    "#medium3\n",
    "s1=input().split()\n",
    "s2=input().split()\n",
    "s1=[int(i) for i in s1]\n",
    "s2=[int(i) for i in s2]\n",
    "s=[]\n",
    "for i in s1:\n",
    "    for n in s2:\n",
    "        m=i*n\n",
    "        s.append(m)\n",
    "print(s)\n",
    "        "
   ]
  },
  {
   "cell_type": "code",
   "execution_count": 22,
   "metadata": {},
   "outputs": [
    {
     "name": "stdout",
     "output_type": "stream",
     "text": [
      "2 3 6\n",
      "2 4\n",
      "[4, 8, 6, 12, 12, 24]\n"
     ]
    }
   ],
   "source": [
    "#medium3 best\n",
    "s1=input().split()\n",
    "s2=input().split()\n",
    "s=[]\n",
    "for i in s1:\n",
    "    for n in s2:\n",
    "        m=int(i)*int(n)\n",
    "        s.append(m)\n",
    "print(s)\n",
    "        "
   ]
  },
  {
   "cell_type": "code",
   "execution_count": 6,
   "metadata": {},
   "outputs": [
    {
     "name": "stdout",
     "output_type": "stream",
     "text": [
      "4\n",
      "a,b,c,d,e,f,g,h,i,j,k,l,m,n\n",
      "['a', 'e', 'i', 'm'],['b', 'f', 'j', 'n'],['c', 'g', 'k'],['d', 'h', 'l']"
     ]
    }
   ],
   "source": [
    "#medium4\n",
    "def asif(s,c,n):\n",
    "    s1=[]\n",
    "    for i in s[c:len(s):n]:\n",
    "        s1.append(i)\n",
    "    if c+1==n:\n",
    "        print(s1,end='')\n",
    "    else:\n",
    "        print(s1,end=\",\")\n",
    "n=int(input())\n",
    "s=input().split(\",\")\n",
    "c=0\n",
    "while c<n:\n",
    "    asif(s,c,n)\n",
    "    c=c+1\n"
   ]
  },
  {
   "cell_type": "code",
   "execution_count": 3,
   "metadata": {},
   "outputs": [
    {
     "name": "stdout",
     "output_type": "stream",
     "text": [
      "3\n",
      "a,b,c,d,e,f,g,h,i,j,k,l,m,n\n",
      "[['a', 'd', 'g', 'j', 'm'], ['b', 'e', 'h', 'k', 'n'], ['c', 'f', 'i', 'l']]\n"
     ]
    }
   ],
   "source": [
    "#medium4\n",
    "def asif(s,c,n):\n",
    "    s1=[]\n",
    "    for i in s[c:len(s):n]:\n",
    "        s1.append(i)\n",
    "    return(s1)\n",
    "n=int(input())\n",
    "s=input().split(\",\")\n",
    "lst=[]\n",
    "c=0\n",
    "while c<n:\n",
    "    r=asif(s,c,n)\n",
    "    lst.append(r)\n",
    "    c=c+1\n",
    "print(lst)"
   ]
  },
  {
   "cell_type": "code",
   "execution_count": 9,
   "metadata": {},
   "outputs": [
    {
     "name": "stdout",
     "output_type": "stream",
     "text": [
      "3\n",
      "a,b,c,d,e,f,g,h,i,j,k,l,m,n\n",
      "[['a', 'd', 'g', 'j', 'm'], ['b', 'e', 'h', 'k', 'n'], ['c', 'f', 'i', 'l']]\n"
     ]
    }
   ],
   "source": [
    "#medium4 best\n",
    "n=int(input())\n",
    "s=input().split(\",\")\n",
    "c=0\n",
    "lst=[]\n",
    "while c<n:\n",
    "    s1=[]\n",
    "    for i in s[c:len(s):n]:\n",
    "        s1.append(i)\n",
    "    lst.append(s1)\n",
    "    c=c+1\n",
    "print(lst)"
   ]
  },
  {
   "cell_type": "code",
   "execution_count": null,
   "metadata": {
    "scrolled": true
   },
   "outputs": [
    {
     "name": "stdout",
     "output_type": "stream",
     "text": [
      "1 3 5 6 8 11 20 24 54\n",
      "NOT UB JUMPER\n"
     ]
    }
   ],
   "source": [
    "#hard1\n",
    "while True:\n",
    "    s=input()\n",
    "    if s=='STOP':\n",
    "        break\n",
    "    else: \n",
    "        s=s.split()\n",
    "        s=[int(i) for i in s]\n",
    "        le=len(s)\n",
    "        d=0\n",
    "        r=1\n",
    "        c=1\n",
    "        for i in s:\n",
    "            if c==len(s):\n",
    "                break\n",
    "            else:\n",
    "                if i>=s[c]:\n",
    "                    d=i-s[c]\n",
    "                    if d>=le:\n",
    "                        print('\"NOT UB JUMPER\"')\n",
    "                        r=0\n",
    "                else:\n",
    "                    d=s[c]-i\n",
    "                    if d>=le and r!=0:\n",
    "                        print(\"NOT UB JUMPER\")\n",
    "                        r=0\n",
    "                c=c+1\n",
    "    if r==1:\n",
    "        print(\"UB JUMPER\")"
   ]
  },
  {
   "cell_type": "code",
   "execution_count": 4,
   "metadata": {},
   "outputs": [
    {
     "name": "stdout",
     "output_type": "stream",
     "text": [
      "1 6 2 3\n",
      "2 1 4 6 10\n",
      "STOP\n",
      "NOT UB JUMPER\n",
      "UB JUMPER\n"
     ]
    }
   ],
   "source": [
    "#hard1 altanative\n",
    "lst=[]\n",
    "while True:\n",
    "    s=input()\n",
    "    if s=='STOP':\n",
    "        break\n",
    "    else: \n",
    "        s=s.split()\n",
    "        s=[int(i) for i in s]\n",
    "        d=0\n",
    "        r=1\n",
    "        c=1\n",
    "        for i in s:\n",
    "            if c==len(s):\n",
    "                break\n",
    "            else:\n",
    "                if i>=s[c]:\n",
    "                    d=i-s[c]\n",
    "                    if d>=len(s) and r!=0:\n",
    "                        lst.append(\"NOT UB JUMPER\")\n",
    "                        r=0\n",
    "                else:\n",
    "                    d=s[c]-i\n",
    "                    if d>=len(s) and r!=0:\n",
    "                        lst.append(\"NOT UB JUMPER\")\n",
    "                        r=0\n",
    "                c=c+1\n",
    "    if r==1:\n",
    "        lst.append(\"UB JUMPER\")\n",
    "for i in lst:\n",
    "    print(i)"
   ]
  },
  {
   "cell_type": "code",
   "execution_count": null,
   "metadata": {},
   "outputs": [],
   "source": [
    "#hard1 altanative\n",
    "lst=[]\n",
    "while True:\n",
    "    s=input()\n",
    "    if s=='STOP':\n",
    "        break\n",
    "    else: \n",
    "        s=s.split()\n",
    "        s=[int(i) for i in s]\n",
    "        d=0\n",
    "        r=1\n",
    "        c=1\n",
    "        for i in s:\n",
    "            if c==len(s):\n",
    "                break\n",
    "            else:\n",
    "                if i>=s[c]:\n",
    "                    d=i-s[c]\n",
    "                    if d>=len(s) and r!=0:\n",
    "                        lst.append(\"NOT UB JUMPER\")\n",
    "                        r=0\n",
    "                else:\n",
    "                    d=s[c]-i\n",
    "                    if d>=len(s) and r!=0:\n",
    "                        lst.append(\"NOT UB JUMPER\")\n",
    "                        r=0\n",
    "                c=c+1\n",
    "    if r==1:\n",
    "        lst.append(\"UB JUMPER\")\n",
    "for i in lst:\n",
    "    print(i)"
   ]
  },
  {
   "cell_type": "code",
   "execution_count": 8,
   "metadata": {},
   "outputs": [
    {
     "name": "stdout",
     "output_type": "stream",
     "text": [
      "Bracu3421\n",
      "acruB1324\n"
     ]
    }
   ],
   "source": [
    "#hard2 \n",
    "s=input()\n",
    "s=''.join(sorted(s))\n",
    "#print(s)\n",
    "sl='abcdefghijklmnopqrstuvwxyz'\n",
    "cl='ABCDEFGHIJKLMNOPQRSTUVWXYZ'\n",
    "od='13579'\n",
    "ev='02468'\n",
    "def asif(a,b):\n",
    "    r=''\n",
    "    for i in a:\n",
    "        if i in b:\n",
    "            r=r+i\n",
    "    return r\n",
    "ans=asif(s,sl)+asif(s,cl)+asif(s,od)+asif(s,ev)\n",
    "print(ans)\n"
   ]
  },
  {
   "cell_type": "code",
   "execution_count": 2,
   "metadata": {},
   "outputs": [
    {
     "name": "stdout",
     "output_type": "stream",
     "text": [
      "Bracu2314\n",
      "acruB1324\n"
     ]
    }
   ],
   "source": [
    "#hard2 altanative2\n",
    "s=input()\n",
    "sl='abcdefghijklmnopqrstuvwxyz'\n",
    "cl='ABCDEFGHIJKLMNOPQRSTUVWXYZ'\n",
    "od='13579'\n",
    "ev='02468'\n",
    "def asif(a,b):\n",
    "    r=''\n",
    "    for i in a:\n",
    "        if i in b:\n",
    "            r=r+i\n",
    "    return r\n",
    "ans=asif(sl,s)+asif(cl,s)+asif(od,s)+asif(ev,s)\n",
    "print(ans)\n"
   ]
  },
  {
   "cell_type": "code",
   "execution_count": 11,
   "metadata": {},
   "outputs": [
    {
     "name": "stdout",
     "output_type": "stream",
     "text": [
      "Bracu2314\n",
      "acruB1324\n"
     ]
    }
   ],
   "source": [
    "#hard2 altanative3\n",
    "s=input()\n",
    "sl='abcdefghijklmnopqrstuvwxyz'\n",
    "cl='ABCDEFGHIJKLMNOPQRSTUVWXYZ'\n",
    "od='13579'\n",
    "ev='02468'\n",
    "r=''\n",
    "for i in sl:\n",
    "    if i in s:\n",
    "            r=r+i\n",
    "for i in cl:\n",
    "    if i in s:\n",
    "            r=r+i\n",
    "for i in od:\n",
    "    if i in s:\n",
    "            r=r+i\n",
    "for i in ev:\n",
    "    if i in s:\n",
    "            r=r+i\n",
    "print(r)\n"
   ]
  },
  {
   "cell_type": "code",
   "execution_count": 4,
   "metadata": {},
   "outputs": [
    {
     "name": "stdout",
     "output_type": "stream",
     "text": [
      "6 5\n",
      "0 0 0 0 0 0\n",
      "2\n"
     ]
    }
   ],
   "source": [
    "#hard3\n",
    "s1=input().split()\n",
    "s2=input().split()\n",
    "c=0\n",
    "for i in s2:\n",
    "    if (5-int(i))>=(int(s1[1])):\n",
    "        c=c+1\n",
    "team=c//3\n",
    "print(team)"
   ]
  },
  {
   "cell_type": "code",
   "execution_count": 7,
   "metadata": {},
   "outputs": [
    {
     "name": "stdout",
     "output_type": "stream",
     "text": [
      "[1, 2, 3]\n"
     ]
    }
   ],
   "source": [
    "s=['1','2','3']\n",
    "s1=[int(i) for i in s]\n",
    "\n",
    "print(s1)"
   ]
  },
  {
   "cell_type": "code",
   "execution_count": null,
   "metadata": {},
   "outputs": [],
   "source": []
  }
 ],
 "metadata": {
  "kernelspec": {
   "display_name": "Python 3",
   "language": "python",
   "name": "python3"
  },
  "language_info": {
   "codemirror_mode": {
    "name": "ipython",
    "version": 3
   },
   "file_extension": ".py",
   "mimetype": "text/x-python",
   "name": "python",
   "nbconvert_exporter": "python",
   "pygments_lexer": "ipython3",
   "version": "3.7.6"
  }
 },
 "nbformat": 4,
 "nbformat_minor": 4
}
