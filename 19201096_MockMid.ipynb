{
 "cells": [
  {
   "cell_type": "code",
   "execution_count": 3,
   "metadata": {},
   "outputs": [
    {
     "name": "stdout",
     "output_type": "stream",
     "text": [
      "WEloVeCsE111\n",
      "Number of capital letters: 5\n"
     ]
    }
   ],
   "source": [
    "#Question 1\n",
    "s=input()\n",
    "cap=[\"A\",\"B\",\"C\",\"D\",\"E\",\"F\",\"G\",\"H\",\"I\",\"J\",\"K\",\"L\",\"M\",\"N\",\"O\",\"P\",\"Q\",\"R\",\"S\",\"T\",\"U\",\"V\",\"W\",\"X\",\"Y\",\"Z\"]\n",
    "c=0\n",
    "for i in s:\n",
    "    if i in cap:\n",
    "        c=c+1\n",
    "print(\"Number of capital letters:\",c)\n"
   ]
  },
  {
   "cell_type": "code",
   "execution_count": 2,
   "metadata": {},
   "outputs": [
    {
     "ename": "KeyError",
     "evalue": "'1st_name'",
     "output_type": "error",
     "traceback": [
      "\u001b[1;31m---------------------------------------------------------------------------\u001b[0m",
      "\u001b[1;31mKeyError\u001b[0m                                  Traceback (most recent call last)",
      "\u001b[1;32m<ipython-input-2-67c19e7ef117>\u001b[0m in \u001b[0;36m<module>\u001b[1;34m\u001b[0m\n\u001b[0;32m      1\u001b[0m \u001b[0mdict1\u001b[0m\u001b[1;33m=\u001b[0m\u001b[1;33m{\u001b[0m\u001b[1;34m\"first_name\"\u001b[0m\u001b[1;33m:\u001b[0m\u001b[1;34m\"frodo\"\u001b[0m\u001b[1;33m,\u001b[0m\u001b[1;34m\"last_name\"\u001b[0m\u001b[1;33m:\u001b[0m\u001b[1;34m'baggins'\u001b[0m\u001b[1;33m}\u001b[0m\u001b[1;33m\u001b[0m\u001b[1;33m\u001b[0m\u001b[0m\n\u001b[1;32m----> 2\u001b[1;33m \u001b[0mx\u001b[0m\u001b[1;33m=\u001b[0m\u001b[0mdict1\u001b[0m\u001b[1;33m.\u001b[0m\u001b[0mpop\u001b[0m\u001b[1;33m(\u001b[0m\u001b[1;34m\"1st_name\"\u001b[0m\u001b[1;33m)\u001b[0m\u001b[1;33m\u001b[0m\u001b[1;33m\u001b[0m\u001b[0m\n\u001b[0m\u001b[0;32m      3\u001b[0m \u001b[0mprint\u001b[0m\u001b[1;33m(\u001b[0m\u001b[0mx\u001b[0m\u001b[1;33m)\u001b[0m\u001b[1;33m\u001b[0m\u001b[1;33m\u001b[0m\u001b[0m\n",
      "\u001b[1;31mKeyError\u001b[0m: '1st_name'"
     ]
    }
   ],
   "source": [
    "dict1={\"first_name\":\"frodo\",\"last_name\":'baggins'}\n",
    "x=dict1.pop(\"1st_name\")\n",
    "print(x)"
   ]
  },
  {
   "cell_type": "code",
   "execution_count": 1,
   "metadata": {},
   "outputs": [
    {
     "name": "stdout",
     "output_type": "stream",
     "text": [
      "[2, 6, 12, 20, 30]\n"
     ]
    }
   ],
   "source": [
    "l=[2,4,6,8,10]\n",
    "l_c=[sum(l[0:i+1]) for i in range(0,len(l))]\n",
    "print(l_c)\n",
    "         "
   ]
  },
  {
   "cell_type": "code",
   "execution_count": 3,
   "metadata": {},
   "outputs": [
    {
     "name": "stdout",
     "output_type": "stream",
     "text": [
      "{'snack': 'pasta', 'dessert': 'brownie', 'main': 'rice'}\n"
     ]
    }
   ],
   "source": [
    "a={'snack':'pasta','dessert':'brownie','main':'rice'}\n",
    "b=a.copy()\n",
    "b['dessert']='p'\n",
    "print(a)\n"
   ]
  },
  {
   "cell_type": "code",
   "execution_count": 4,
   "metadata": {},
   "outputs": [
    {
     "name": "stdout",
     "output_type": "stream",
     "text": [
      "(10000, 10000, 10000, 10000, 10000, 10000)\n"
     ]
    }
   ],
   "source": [
    "m=(10000,)\n",
    "print(m*6)"
   ]
  },
  {
   "cell_type": "code",
   "execution_count": 8,
   "metadata": {},
   "outputs": [
    {
     "name": "stdout",
     "output_type": "stream",
     "text": [
      "('p', 'c', 'h', 'a', 'ar', 'p', 'c', 'h', 'a', 'ar')\n"
     ]
    }
   ],
   "source": [
    "s=('p','c','h','a','ar')\n",
    "sb=s+s\n",
    "print(sb)"
   ]
  },
  {
   "cell_type": "code",
   "execution_count": 1,
   "metadata": {},
   "outputs": [
    {
     "name": "stdout",
     "output_type": "stream",
     "text": [
      "dfghj\n",
      "False\n"
     ]
    }
   ],
   "source": [
    "#Question 2\n",
    "s=input()\n",
    "s2=\"\"\n",
    "for i in s:\n",
    "    if i!=\" \":\n",
    "        s2=s2+i\n",
    "def palindromeCheck(a):\n",
    "    c=len(a)-1\n",
    "    s1=\"\"\n",
    "    for i in range(c,-1,-1):\n",
    "        s1=s1+a[i]\n",
    "    return (s1==a)\n",
    "print(palindromeCheck(s2))"
   ]
  },
  {
   "cell_type": "code",
   "execution_count": 1,
   "metadata": {},
   "outputs": [
    {
     "name": "stdout",
     "output_type": "stream",
     "text": [
      "𝐖,𝟕𝟗,𝐕,𝟖𝟒,𝐔,𝟔𝟑,𝐘,𝟓𝟒,𝐗,𝟗𝟏\n",
      "['𝐔', '𝟔𝟑', '𝐕', '𝟖𝟒', '𝐖', '𝟕𝟗', '𝐗', '𝟗𝟏', '𝐘', '𝟓𝟒']\n"
     ]
    }
   ],
   "source": [
    "#Question3\n",
    "s=input().split(',')\n",
    "l1=[]\n",
    "l2=[]\n",
    "for i in range(len(s)):\n",
    "    if i%2==0:\n",
    "        l1.append(s[i])\n",
    "    else:\n",
    "        l2.append(s[i])\n",
    "i=0\n",
    "while i<len(l1)-1:\n",
    "    j=i+1\n",
    "    while j<len(l1):\n",
    "        if l1[i]>l1[j]:\n",
    "            temp=l1[i]\n",
    "            l1[i]=l1[j]\n",
    "            l1[j]=temp\n",
    "            temp1=l2[i]\n",
    "            l2[i]=l2[j]\n",
    "            l2[j]=temp1\n",
    "        j=j+1\n",
    "    i=i+1\n",
    "l=[]\n",
    "for i in range(5):\n",
    "    l.append(l1[i])\n",
    "    l.append(l2[i])\n",
    "print(l)\n",
    "                "
   ]
  },
  {
   "cell_type": "code",
   "execution_count": null,
   "metadata": {},
   "outputs": [],
   "source": [
    "#Question3\n",
    "nam_mark=input().split(',')\n",
    "name=[]\n",
    "marks=[]\n",
    "for i in range(len(nam_mark)):\n",
    "    if i%2==0:\n",
    "        name.append(nam_mark[i])\n",
    "    else:\n",
    "        marks.append(nam_mark[i])\n",
    "for i in range(0,len(name)-1): \n",
    "    for j in range(i,len(name)):\n",
    "        if name[i]>name[j]:\n",
    "            temp=name[i]\n",
    "            name[i]=name[j]\n",
    "            name[j]=temp\n",
    "            temp1=marks[i]\n",
    "            marks[i]=marks[j]\n",
    "            marks[j]=temp1\n",
    "lst=[]\n",
    "for i in range(5):\n",
    "    lst.append(name[i])\n",
    "    lst.append(marks[i])\n",
    "print(lst)"
   ]
  }
 ],
 "metadata": {
  "kernelspec": {
   "display_name": "Python 3",
   "language": "python",
   "name": "python3"
  },
  "language_info": {
   "codemirror_mode": {
    "name": "ipython",
    "version": 3
   },
   "file_extension": ".py",
   "mimetype": "text/x-python",
   "name": "python",
   "nbconvert_exporter": "python",
   "pygments_lexer": "ipython3",
   "version": "3.7.6"
  }
 },
 "nbformat": 4,
 "nbformat_minor": 4
}
